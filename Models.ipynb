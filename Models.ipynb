{
 "cells": [
  {
   "cell_type": "markdown",
   "metadata": {},
   "source": [
    "Machine larning models for the Estimation of obesity levels based on eating habits and physical condition Data Set. We will try to fit the models with a preprocessing to have the target feature with 3 and 4 categories. For each one, we will try to fit the models with all the features and dropping the 3 less important features."
   ]
  },
  {
   "cell_type": "code",
   "execution_count": 1,
   "metadata": {},
   "outputs": [],
   "source": [
    "import pandas as pd\n",
    "import numpy as np\n",
    "from sklearn.ensemble import RandomForestClassifier, AdaBoostClassifier, GradientBoostingClassifier, VotingClassifier\n",
    "from sklearn.model_selection import train_test_split\n",
    "import matplotlib.pyplot as plt\n",
    "from sklearn.model_selection import GridSearchCV\n",
    "from sklearn.metrics import plot_confusion_matrix, classification_report\n",
    "from sklearn.svm import SVC\n",
    "from sklearn.tree import DecisionTreeClassifier\n",
    "from sklearn.linear_model import LogisticRegression"
   ]
  },
  {
   "cell_type": "markdown",
   "metadata": {},
   "source": [
    "# Load and preprocess data\n",
    "\n",
    "First we use only 4 categories of the target feature. For the way of transport we use 3 categories (as we explain in the exploratory data analysis). One hot encoding for the way of transport and an ordinal encoder for the rest of categorical features. We don't use weight and height."
   ]
  },
  {
   "cell_type": "code",
   "execution_count": 2,
   "metadata": {},
   "outputs": [
    {
     "data": {
      "text/html": [
       "<div>\n",
       "<style scoped>\n",
       "    .dataframe tbody tr th:only-of-type {\n",
       "        vertical-align: middle;\n",
       "    }\n",
       "\n",
       "    .dataframe tbody tr th {\n",
       "        vertical-align: top;\n",
       "    }\n",
       "\n",
       "    .dataframe thead th {\n",
       "        text-align: right;\n",
       "    }\n",
       "</style>\n",
       "<table border=\"1\" class=\"dataframe\">\n",
       "  <thead>\n",
       "    <tr style=\"text-align: right;\">\n",
       "      <th></th>\n",
       "      <th>Gender</th>\n",
       "      <th>Age</th>\n",
       "      <th>Family_overweight</th>\n",
       "      <th>High_cal_food</th>\n",
       "      <th>Vegetables</th>\n",
       "      <th>Number_meals</th>\n",
       "      <th>Eat_between_meals</th>\n",
       "      <th>Smoke</th>\n",
       "      <th>Water</th>\n",
       "      <th>Calories_monitoring</th>\n",
       "      <th>Exercise_time</th>\n",
       "      <th>Technologies_time</th>\n",
       "      <th>Alcohol</th>\n",
       "      <th>NObeyesdad</th>\n",
       "      <th>Transport_Automobile</th>\n",
       "      <th>Transport_Public_Transportation</th>\n",
       "      <th>Transport_Walking</th>\n",
       "    </tr>\n",
       "  </thead>\n",
       "  <tbody>\n",
       "    <tr>\n",
       "      <th>0</th>\n",
       "      <td>1</td>\n",
       "      <td>21.000000</td>\n",
       "      <td>1</td>\n",
       "      <td>0</td>\n",
       "      <td>1</td>\n",
       "      <td>1</td>\n",
       "      <td>1</td>\n",
       "      <td>0</td>\n",
       "      <td>1</td>\n",
       "      <td>0</td>\n",
       "      <td>0</td>\n",
       "      <td>1</td>\n",
       "      <td>0</td>\n",
       "      <td>Normal_Weight</td>\n",
       "      <td>0</td>\n",
       "      <td>1</td>\n",
       "      <td>0</td>\n",
       "    </tr>\n",
       "    <tr>\n",
       "      <th>1</th>\n",
       "      <td>1</td>\n",
       "      <td>21.000000</td>\n",
       "      <td>1</td>\n",
       "      <td>0</td>\n",
       "      <td>2</td>\n",
       "      <td>1</td>\n",
       "      <td>1</td>\n",
       "      <td>1</td>\n",
       "      <td>2</td>\n",
       "      <td>1</td>\n",
       "      <td>3</td>\n",
       "      <td>0</td>\n",
       "      <td>1</td>\n",
       "      <td>Normal_Weight</td>\n",
       "      <td>0</td>\n",
       "      <td>1</td>\n",
       "      <td>0</td>\n",
       "    </tr>\n",
       "    <tr>\n",
       "      <th>2</th>\n",
       "      <td>0</td>\n",
       "      <td>23.000000</td>\n",
       "      <td>1</td>\n",
       "      <td>0</td>\n",
       "      <td>1</td>\n",
       "      <td>1</td>\n",
       "      <td>1</td>\n",
       "      <td>0</td>\n",
       "      <td>1</td>\n",
       "      <td>0</td>\n",
       "      <td>2</td>\n",
       "      <td>1</td>\n",
       "      <td>2</td>\n",
       "      <td>Normal_Weight</td>\n",
       "      <td>0</td>\n",
       "      <td>1</td>\n",
       "      <td>0</td>\n",
       "    </tr>\n",
       "    <tr>\n",
       "      <th>3</th>\n",
       "      <td>0</td>\n",
       "      <td>27.000000</td>\n",
       "      <td>0</td>\n",
       "      <td>0</td>\n",
       "      <td>2</td>\n",
       "      <td>1</td>\n",
       "      <td>1</td>\n",
       "      <td>0</td>\n",
       "      <td>1</td>\n",
       "      <td>0</td>\n",
       "      <td>2</td>\n",
       "      <td>0</td>\n",
       "      <td>2</td>\n",
       "      <td>Overweight</td>\n",
       "      <td>0</td>\n",
       "      <td>0</td>\n",
       "      <td>1</td>\n",
       "    </tr>\n",
       "    <tr>\n",
       "      <th>4</th>\n",
       "      <td>0</td>\n",
       "      <td>22.000000</td>\n",
       "      <td>0</td>\n",
       "      <td>0</td>\n",
       "      <td>1</td>\n",
       "      <td>0</td>\n",
       "      <td>1</td>\n",
       "      <td>0</td>\n",
       "      <td>1</td>\n",
       "      <td>0</td>\n",
       "      <td>0</td>\n",
       "      <td>0</td>\n",
       "      <td>1</td>\n",
       "      <td>Overweight</td>\n",
       "      <td>0</td>\n",
       "      <td>1</td>\n",
       "      <td>0</td>\n",
       "    </tr>\n",
       "    <tr>\n",
       "      <th>...</th>\n",
       "      <td>...</td>\n",
       "      <td>...</td>\n",
       "      <td>...</td>\n",
       "      <td>...</td>\n",
       "      <td>...</td>\n",
       "      <td>...</td>\n",
       "      <td>...</td>\n",
       "      <td>...</td>\n",
       "      <td>...</td>\n",
       "      <td>...</td>\n",
       "      <td>...</td>\n",
       "      <td>...</td>\n",
       "      <td>...</td>\n",
       "      <td>...</td>\n",
       "      <td>...</td>\n",
       "      <td>...</td>\n",
       "      <td>...</td>\n",
       "    </tr>\n",
       "    <tr>\n",
       "      <th>2106</th>\n",
       "      <td>1</td>\n",
       "      <td>20.976842</td>\n",
       "      <td>1</td>\n",
       "      <td>1</td>\n",
       "      <td>2</td>\n",
       "      <td>1</td>\n",
       "      <td>1</td>\n",
       "      <td>0</td>\n",
       "      <td>1</td>\n",
       "      <td>0</td>\n",
       "      <td>2</td>\n",
       "      <td>1</td>\n",
       "      <td>1</td>\n",
       "      <td>Obesity</td>\n",
       "      <td>0</td>\n",
       "      <td>1</td>\n",
       "      <td>0</td>\n",
       "    </tr>\n",
       "    <tr>\n",
       "      <th>2107</th>\n",
       "      <td>1</td>\n",
       "      <td>21.982942</td>\n",
       "      <td>1</td>\n",
       "      <td>1</td>\n",
       "      <td>2</td>\n",
       "      <td>1</td>\n",
       "      <td>1</td>\n",
       "      <td>0</td>\n",
       "      <td>1</td>\n",
       "      <td>0</td>\n",
       "      <td>1</td>\n",
       "      <td>1</td>\n",
       "      <td>1</td>\n",
       "      <td>Obesity</td>\n",
       "      <td>0</td>\n",
       "      <td>1</td>\n",
       "      <td>0</td>\n",
       "    </tr>\n",
       "    <tr>\n",
       "      <th>2108</th>\n",
       "      <td>1</td>\n",
       "      <td>22.524036</td>\n",
       "      <td>1</td>\n",
       "      <td>1</td>\n",
       "      <td>2</td>\n",
       "      <td>1</td>\n",
       "      <td>1</td>\n",
       "      <td>0</td>\n",
       "      <td>1</td>\n",
       "      <td>0</td>\n",
       "      <td>1</td>\n",
       "      <td>1</td>\n",
       "      <td>1</td>\n",
       "      <td>Obesity</td>\n",
       "      <td>0</td>\n",
       "      <td>1</td>\n",
       "      <td>0</td>\n",
       "    </tr>\n",
       "    <tr>\n",
       "      <th>2109</th>\n",
       "      <td>1</td>\n",
       "      <td>24.361936</td>\n",
       "      <td>1</td>\n",
       "      <td>1</td>\n",
       "      <td>2</td>\n",
       "      <td>1</td>\n",
       "      <td>1</td>\n",
       "      <td>0</td>\n",
       "      <td>2</td>\n",
       "      <td>0</td>\n",
       "      <td>1</td>\n",
       "      <td>1</td>\n",
       "      <td>1</td>\n",
       "      <td>Obesity</td>\n",
       "      <td>0</td>\n",
       "      <td>1</td>\n",
       "      <td>0</td>\n",
       "    </tr>\n",
       "    <tr>\n",
       "      <th>2110</th>\n",
       "      <td>1</td>\n",
       "      <td>23.664709</td>\n",
       "      <td>1</td>\n",
       "      <td>1</td>\n",
       "      <td>2</td>\n",
       "      <td>1</td>\n",
       "      <td>1</td>\n",
       "      <td>0</td>\n",
       "      <td>2</td>\n",
       "      <td>0</td>\n",
       "      <td>1</td>\n",
       "      <td>1</td>\n",
       "      <td>1</td>\n",
       "      <td>Obesity</td>\n",
       "      <td>0</td>\n",
       "      <td>1</td>\n",
       "      <td>0</td>\n",
       "    </tr>\n",
       "  </tbody>\n",
       "</table>\n",
       "<p>2111 rows × 17 columns</p>\n",
       "</div>"
      ],
      "text/plain": [
       "      Gender        Age  Family_overweight  High_cal_food  Vegetables  \\\n",
       "0          1  21.000000                  1              0           1   \n",
       "1          1  21.000000                  1              0           2   \n",
       "2          0  23.000000                  1              0           1   \n",
       "3          0  27.000000                  0              0           2   \n",
       "4          0  22.000000                  0              0           1   \n",
       "...      ...        ...                ...            ...         ...   \n",
       "2106       1  20.976842                  1              1           2   \n",
       "2107       1  21.982942                  1              1           2   \n",
       "2108       1  22.524036                  1              1           2   \n",
       "2109       1  24.361936                  1              1           2   \n",
       "2110       1  23.664709                  1              1           2   \n",
       "\n",
       "      Number_meals  Eat_between_meals  Smoke  Water  Calories_monitoring  \\\n",
       "0                1                  1      0      1                    0   \n",
       "1                1                  1      1      2                    1   \n",
       "2                1                  1      0      1                    0   \n",
       "3                1                  1      0      1                    0   \n",
       "4                0                  1      0      1                    0   \n",
       "...            ...                ...    ...    ...                  ...   \n",
       "2106             1                  1      0      1                    0   \n",
       "2107             1                  1      0      1                    0   \n",
       "2108             1                  1      0      1                    0   \n",
       "2109             1                  1      0      2                    0   \n",
       "2110             1                  1      0      2                    0   \n",
       "\n",
       "      Exercise_time  Technologies_time  Alcohol     NObeyesdad  \\\n",
       "0                 0                  1        0  Normal_Weight   \n",
       "1                 3                  0        1  Normal_Weight   \n",
       "2                 2                  1        2  Normal_Weight   \n",
       "3                 2                  0        2     Overweight   \n",
       "4                 0                  0        1     Overweight   \n",
       "...             ...                ...      ...            ...   \n",
       "2106              2                  1        1        Obesity   \n",
       "2107              1                  1        1        Obesity   \n",
       "2108              1                  1        1        Obesity   \n",
       "2109              1                  1        1        Obesity   \n",
       "2110              1                  1        1        Obesity   \n",
       "\n",
       "      Transport_Automobile  Transport_Public_Transportation  Transport_Walking  \n",
       "0                        0                                1                  0  \n",
       "1                        0                                1                  0  \n",
       "2                        0                                1                  0  \n",
       "3                        0                                0                  1  \n",
       "4                        0                                1                  0  \n",
       "...                    ...                              ...                ...  \n",
       "2106                     0                                1                  0  \n",
       "2107                     0                                1                  0  \n",
       "2108                     0                                1                  0  \n",
       "2109                     0                                1                  0  \n",
       "2110                     0                                1                  0  \n",
       "\n",
       "[2111 rows x 17 columns]"
      ]
     },
     "execution_count": 2,
     "metadata": {},
     "output_type": "execute_result"
    }
   ],
   "source": [
    "# Load the data\n",
    "data = pd.read_csv('./ObesityDataSet_raw_and_data_sinthetic.csv').drop(['Weight', 'Height'], axis = 1)\n",
    "\n",
    "# Rename data\n",
    "data = data.rename(columns = {'family_history_with_overweight': 'Family_overweight', 'FAVC': 'High_cal_food', \n",
    "                              'FCVC': 'Vegetables', 'NCP': 'Number_meals', 'CAEC': 'Eat_between_meals', 'SMOKE': 'Smoke', \n",
    "                              'CH2O': 'Water', 'CALC': 'Alcohol', 'SCC': 'Calories_monitoring', 'FAF': 'Exercise_time', \n",
    "                              'TUE': 'Technologies_time', 'MTRANS': 'Transport_way'})\n",
    "\n",
    "# Round numerical variables\n",
    "columns = ['Vegetables', 'Water', 'Exercise_time', 'Technologies_time', 'Number_meals']\n",
    "for col in columns:\n",
    "    data[col] = round(data[col]).astype('int')\n",
    "\n",
    "# Encoding\n",
    "data.Gender = np.where(data.Gender == 'Male', 0, 1)\n",
    "data.Family_overweight = np.where(data.Family_overweight == 'no', 0, 1)\n",
    "data.High_cal_food = np.where(data.High_cal_food == 'no', 0, 1)\n",
    "data.Smoke = np.where(data.Smoke == 'no', 0, 1)\n",
    "data.Calories_monitoring = np.where(data.Calories_monitoring == 'no', 0, 1)\n",
    "\n",
    "data.Vegetables = data.Vegetables.apply(lambda x: 0 if x == 1 else (1 if x == 2 else 2))\n",
    "data.Number_meals = data.Number_meals.apply(lambda x: 0 if x <= 2 else(1 if x == 3 else 2))\n",
    "data.Eat_between_meals = data.Eat_between_meals.apply(lambda x: 0 if x == 'no' else (1 if x == 'Sometimes' else (2 if x == 'Frequently' else 3)))\n",
    "data.Water = data.Water.apply(lambda x: 0 if x == 1 else(1 if x == 2 else 2))\n",
    "data.Alcohol = data.Alcohol.apply(lambda x: 0 if x == 'no' else (1 if x == 'Sometimes' else (2 if x == 'Frequently' else 3)))\n",
    "\n",
    "data.Transport_way = data.Transport_way.apply(lambda x: 'Automobile' if x == 'Motorbike' else ('Walking' if x == 'Bike' else x))\n",
    "data = pd.get_dummies(data, prefix = ['Transport'], columns = ['Transport_way'])\n",
    "\n",
    "data.NObeyesdad = data.NObeyesdad.apply(lambda x: 'Obesity' if x in ['Obesity_Type_I', 'Obesity_Type_II', 'Obesity_Type_III'] else ('Overweight' if x in ['Overweight_Level_I', 'Overweight_Level_II'] else x))\n",
    "data['NObeyesdad'] = pd.Categorical(data['NObeyesdad'], categories = ['Insufficient_Weight', 'Normal_Weight', 'Overweight', 'Obesity'])\n",
    "\n",
    "data"
   ]
  },
  {
   "cell_type": "markdown",
   "metadata": {},
   "source": [
    "# Feature importances\n",
    "\n",
    "With a random forest we calculate the feature importances."
   ]
  },
  {
   "cell_type": "code",
   "execution_count": 3,
   "metadata": {},
   "outputs": [
    {
     "data": {
      "text/html": [
       "<div>\n",
       "<style scoped>\n",
       "    .dataframe tbody tr th:only-of-type {\n",
       "        vertical-align: middle;\n",
       "    }\n",
       "\n",
       "    .dataframe tbody tr th {\n",
       "        vertical-align: top;\n",
       "    }\n",
       "\n",
       "    .dataframe thead th {\n",
       "        text-align: right;\n",
       "    }\n",
       "</style>\n",
       "<table border=\"1\" class=\"dataframe\">\n",
       "  <thead>\n",
       "    <tr style=\"text-align: right;\">\n",
       "      <th></th>\n",
       "      <th>Column</th>\n",
       "      <th>Importance</th>\n",
       "    </tr>\n",
       "  </thead>\n",
       "  <tbody>\n",
       "    <tr>\n",
       "      <th>1</th>\n",
       "      <td>Age</td>\n",
       "      <td>0.271212</td>\n",
       "    </tr>\n",
       "    <tr>\n",
       "      <th>6</th>\n",
       "      <td>Eat_between_meals</td>\n",
       "      <td>0.089371</td>\n",
       "    </tr>\n",
       "    <tr>\n",
       "      <th>2</th>\n",
       "      <td>Family_overweight</td>\n",
       "      <td>0.087037</td>\n",
       "    </tr>\n",
       "    <tr>\n",
       "      <th>10</th>\n",
       "      <td>Exercise_time</td>\n",
       "      <td>0.076621</td>\n",
       "    </tr>\n",
       "    <tr>\n",
       "      <th>12</th>\n",
       "      <td>Alcohol</td>\n",
       "      <td>0.064620</td>\n",
       "    </tr>\n",
       "    <tr>\n",
       "      <th>5</th>\n",
       "      <td>Number_meals</td>\n",
       "      <td>0.063615</td>\n",
       "    </tr>\n",
       "    <tr>\n",
       "      <th>0</th>\n",
       "      <td>Gender</td>\n",
       "      <td>0.058956</td>\n",
       "    </tr>\n",
       "    <tr>\n",
       "      <th>11</th>\n",
       "      <td>Technologies_time</td>\n",
       "      <td>0.057912</td>\n",
       "    </tr>\n",
       "    <tr>\n",
       "      <th>8</th>\n",
       "      <td>Water</td>\n",
       "      <td>0.053739</td>\n",
       "    </tr>\n",
       "    <tr>\n",
       "      <th>4</th>\n",
       "      <td>Vegetables</td>\n",
       "      <td>0.050848</td>\n",
       "    </tr>\n",
       "    <tr>\n",
       "      <th>3</th>\n",
       "      <td>High_cal_food</td>\n",
       "      <td>0.043342</td>\n",
       "    </tr>\n",
       "    <tr>\n",
       "      <th>14</th>\n",
       "      <td>Transport_Public_Transportation</td>\n",
       "      <td>0.026255</td>\n",
       "    </tr>\n",
       "    <tr>\n",
       "      <th>13</th>\n",
       "      <td>Transport_Automobile</td>\n",
       "      <td>0.022720</td>\n",
       "    </tr>\n",
       "    <tr>\n",
       "      <th>9</th>\n",
       "      <td>Calories_monitoring</td>\n",
       "      <td>0.016747</td>\n",
       "    </tr>\n",
       "    <tr>\n",
       "      <th>15</th>\n",
       "      <td>Transport_Walking</td>\n",
       "      <td>0.011256</td>\n",
       "    </tr>\n",
       "    <tr>\n",
       "      <th>7</th>\n",
       "      <td>Smoke</td>\n",
       "      <td>0.005749</td>\n",
       "    </tr>\n",
       "  </tbody>\n",
       "</table>\n",
       "</div>"
      ],
      "text/plain": [
       "                             Column  Importance\n",
       "1                               Age    0.271212\n",
       "6                 Eat_between_meals    0.089371\n",
       "2                 Family_overweight    0.087037\n",
       "10                    Exercise_time    0.076621\n",
       "12                          Alcohol    0.064620\n",
       "5                      Number_meals    0.063615\n",
       "0                            Gender    0.058956\n",
       "11                Technologies_time    0.057912\n",
       "8                             Water    0.053739\n",
       "4                        Vegetables    0.050848\n",
       "3                     High_cal_food    0.043342\n",
       "14  Transport_Public_Transportation    0.026255\n",
       "13             Transport_Automobile    0.022720\n",
       "9               Calories_monitoring    0.016747\n",
       "15                Transport_Walking    0.011256\n",
       "7                             Smoke    0.005749"
      ]
     },
     "execution_count": 3,
     "metadata": {},
     "output_type": "execute_result"
    }
   ],
   "source": [
    "X = data.drop('NObeyesdad', axis = 1)\n",
    "y = data.iloc[:, -4]\n",
    "X_train, X_test, y_train, y_test = train_test_split(X, y, test_size = 0.2, stratify = y, random_state = 123)\n",
    "\n",
    "rfc = RandomForestClassifier(random_state = 1)\n",
    "rfc.fit(X_train, y_train)\n",
    "\n",
    "importances = pd.DataFrame({'Column': X.columns, 'Importance': rfc.feature_importances_}).sort_values(by = ['Importance'], ascending = False)\n",
    "importances"
   ]
  },
  {
   "cell_type": "code",
   "execution_count": 4,
   "metadata": {},
   "outputs": [
    {
     "data": {
      "image/png": "[encoded data removed]",
      "text/plain": [
       "<Figure size 432x288 with 1 Axes>"
      ]
     },
     "metadata": {
      "needs_background": "light"
     },
     "output_type": "display_data"
    }
   ],
   "source": [
    "plt.barh(importances.Column, importances.Importance)\n",
    "plt.title('Feature importances')\n",
    "plt.xlabel('Importance')\n",
    "plt.ylabel('Features')\n",
    "plt.show()"
   ]
  },
  {
   "cell_type": "markdown",
   "metadata": {},
   "source": [
    "# Models with 4 categories\n",
    "\n",
    "Let's explore first the models with 4 categories in the target variable and with all the features. \n",
    "\n",
    "## Models with all the features\n",
    "\n",
    "### Decision tree"
   ]
  },
  {
   "cell_type": "code",
   "execution_count": 5,
   "metadata": {},
   "outputs": [
    {
     "name": "stdout",
     "output_type": "stream",
     "text": [
      "Fitting 4 folds for each of 84 candidates, totalling 336 fits\n"
     ]
    },
    {
     "name": "stderr",
     "output_type": "stream",
     "text": [
      "[Parallel(n_jobs=-1)]: Using backend LokyBackend with 12 concurrent workers.\n",
      "[Parallel(n_jobs=-1)]: Done   8 tasks      | elapsed:    1.7s\n",
      "[Parallel(n_jobs=-1)]: Done 152 tasks      | elapsed:    2.0s\n"
     ]
    },
    {
     "name": "stdout",
     "output_type": "stream",
     "text": [
      "{'criterion': 'entropy', 'max_depth': 10, 'max_features': 'auto', 'splitter': 'best'}\n",
      "                     precision    recall  f1-score   support\n",
      "\n",
      "Insufficient_Weight       0.65      0.76      0.70        54\n",
      "      Normal_Weight       0.50      0.48      0.49        58\n",
      "            Obesity       0.85      0.82      0.83       195\n",
      "         Overweight       0.65      0.65      0.65       116\n",
      "\n",
      "           accuracy                           0.72       423\n",
      "          macro avg       0.66      0.68      0.67       423\n",
      "       weighted avg       0.72      0.72      0.72       423\n",
      "\n"
     ]
    },
    {
     "name": "stderr",
     "output_type": "stream",
     "text": [
      "[Parallel(n_jobs=-1)]: Done 336 out of 336 | elapsed:    2.3s finished\n"
     ]
    }
   ],
   "source": [
    "param_grid = {'criterion': ['gini', 'entropy'],\n",
    "              'max_depth': [2, 3, 4, 5, 6, 8, 10],\n",
    "              'max_features': ['auto', 'sqrt', 'log2'],\n",
    "              'splitter': ['best', 'random']}\n",
    "\n",
    "dt = DecisionTreeClassifier(random_state = 1)\n",
    "grid_search_dt = GridSearchCV(estimator = dt, param_grid = param_grid, cv = 4, n_jobs = -1, verbose = 3)\n",
    "grid_search_dt.fit(X_train, y_train)\n",
    "print(grid_search_dt.best_params_)\n",
    "\n",
    "best_grid_dt = grid_search_dt.best_estimator_\n",
    "y_pred_dt = best_grid_dt.predict(X_test)\n",
    "\n",
    "print(classification_report(y_test, y_pred_dt))"
   ]
  },
  {
   "cell_type": "code",
   "execution_count": 6,
   "metadata": {},
   "outputs": [
    {
     "data": {
      "image/png": "[encoded data removed]",
      "text/plain": [
       "<Figure size 432x288 with 2 Axes>"
      ]
     },
     "metadata": {
      "needs_background": "light"
     },
     "output_type": "display_data"
    }
   ],
   "source": [
    "plot_confusion_matrix(best_grid_dt, X_test, y_test,  xticks_rotation = 'vertical', values_format = 'd')\n",
    "plt.show()"
   ]
  },
  {
   "cell_type": "markdown",
   "metadata": {},
   "source": [
    "### Random forest"
   ]
  },
  {
   "cell_type": "code",
   "execution_count": 7,
   "metadata": {},
   "outputs": [
    {
     "name": "stderr",
     "output_type": "stream",
     "text": [
      "[Parallel(n_jobs=-1)]: Using backend LokyBackend with 12 concurrent workers.\n"
     ]
    },
    {
     "name": "stdout",
     "output_type": "stream",
     "text": [
      "Fitting 4 folds for each of 126 candidates, totalling 504 fits\n"
     ]
    },
    {
     "name": "stderr",
     "output_type": "stream",
     "text": [
      "[Parallel(n_jobs=-1)]: Done   8 tasks      | elapsed:    0.4s\n",
      "[Parallel(n_jobs=-1)]: Done 104 tasks      | elapsed:    5.6s\n",
      "[Parallel(n_jobs=-1)]: Done 264 tasks      | elapsed:   15.5s\n",
      "[Parallel(n_jobs=-1)]: Done 504 out of 504 | elapsed:   32.0s finished\n"
     ]
    },
    {
     "name": "stdout",
     "output_type": "stream",
     "text": [
      "{'criterion': 'entropy', 'max_depth': 10, 'max_features': 'auto', 'n_estimators': 500}\n",
      "                     precision    recall  f1-score   support\n",
      "\n",
      "Insufficient_Weight       0.91      0.93      0.92        54\n",
      "      Normal_Weight       0.72      0.62      0.67        58\n",
      "            Obesity       0.80      0.96      0.87       195\n",
      "         Overweight       0.82      0.59      0.69       116\n",
      "\n",
      "           accuracy                           0.81       423\n",
      "          macro avg       0.81      0.78      0.79       423\n",
      "       weighted avg       0.81      0.81      0.80       423\n",
      "\n"
     ]
    }
   ],
   "source": [
    "param_grid = {'criterion': ['gini', 'entropy'],\n",
    "              'max_depth': [2, 3, 4, 5, 6, 8, 10],\n",
    "              'max_features': ['auto', 'sqrt', 'log2'],\n",
    "              'n_estimators': [100, 250, 500]}\n",
    "\n",
    "rf = RandomForestClassifier(random_state = 1)\n",
    "grid_search_rf = GridSearchCV(estimator = rf, param_grid = param_grid, cv = 4, n_jobs = -1, verbose = 3)\n",
    "grid_search_rf.fit(X_train, y_train)\n",
    "print(grid_search_rf.best_params_)\n",
    "\n",
    "best_grid_rf = grid_search_rf.best_estimator_\n",
    "y_pred_rf = best_grid_rf.predict(X_test)\n",
    "\n",
    "print(classification_report(y_test, y_pred_rf))"
   ]
  },
  {
   "cell_type": "code",
   "execution_count": 8,
   "metadata": {},
   "outputs": [
    {
     "data": {
      "image/png": "[encoded data removed]",
      "text/plain": [
       "<Figure size 432x288 with 2 Axes>"
      ]
     },
     "metadata": {
      "needs_background": "light"
     },
     "output_type": "display_data"
    }
   ],
   "source": [
    "plot_confusion_matrix(best_grid_rf, X_test, y_test,  xticks_rotation = 'vertical', values_format = 'd')\n",
    "plt.show()"
   ]
  },
  {
   "cell_type": "markdown",
   "metadata": {},
   "source": [
    "### Gradient Boosting"
   ]
  },
  {
   "cell_type": "code",
   "execution_count": 9,
   "metadata": {},
   "outputs": [
    {
     "name": "stdout",
     "output_type": "stream",
     "text": [
      "Fitting 4 folds for each of 140 candidates, totalling 560 fits\n"
     ]
    },
    {
     "name": "stderr",
     "output_type": "stream",
     "text": [
      "[Parallel(n_jobs=-1)]: Using backend LokyBackend with 12 concurrent workers.\n",
      "[Parallel(n_jobs=-1)]: Done   8 tasks      | elapsed:    0.6s\n",
      "[Parallel(n_jobs=-1)]: Done 104 tasks      | elapsed:   19.1s\n",
      "[Parallel(n_jobs=-1)]: Done 264 tasks      | elapsed:   48.7s\n",
      "[Parallel(n_jobs=-1)]: Done 488 tasks      | elapsed:  1.6min\n",
      "[Parallel(n_jobs=-1)]: Done 560 out of 560 | elapsed:  1.9min finished\n"
     ]
    },
    {
     "name": "stdout",
     "output_type": "stream",
     "text": [
      "{'learning_rate': 0.2, 'max_depth': 5, 'n_estimators': 150}\n",
      "                     precision    recall  f1-score   support\n",
      "\n",
      "Insufficient_Weight       0.91      0.91      0.91        54\n",
      "      Normal_Weight       0.64      0.64      0.64        58\n",
      "            Obesity       0.88      0.90      0.89       195\n",
      "         Overweight       0.77      0.74      0.76       116\n",
      "\n",
      "           accuracy                           0.82       423\n",
      "          macro avg       0.80      0.80      0.80       423\n",
      "       weighted avg       0.82      0.82      0.82       423\n",
      "\n"
     ]
    }
   ],
   "source": [
    "param_grid = {'n_estimators': [50, 100, 150, 200],\n",
    "              'learning_rate': [0.2, 0.4, 0.5, 0.7, 1],\n",
    "              'max_depth': [2, 3, 4, 5, 6, 7, 8]}\n",
    "\n",
    "gbc = GradientBoostingClassifier(random_state = 1)\n",
    "grid_search_gbc = GridSearchCV(estimator = gbc, param_grid = param_grid, cv = 4, n_jobs = -1, verbose = 3)\n",
    "grid_search_gbc.fit(X_train, y_train)\n",
    "print(grid_search_gbc.best_params_)\n",
    "\n",
    "best_grid_gbc = grid_search_gbc.best_estimator_\n",
    "y_pred_gbc = best_grid_gbc.predict(X_test)\n",
    "\n",
    "print(classification_report(y_test, y_pred_gbc))"
   ]
  },
  {
   "cell_type": "code",
   "execution_count": 10,
   "metadata": {},
   "outputs": [
    {
     "data": {
      "image/png": "[encoded data removed]",
      "text/plain": [
       "<Figure size 432x288 with 2 Axes>"
      ]
     },
     "metadata": {
      "needs_background": "light"
     },
     "output_type": "display_data"
    }
   ],
   "source": [
    "plot_confusion_matrix(best_grid_gbc, X_test, y_test,  xticks_rotation = 'vertical', values_format = 'd')\n",
    "plt.show()"
   ]
  },
  {
   "cell_type": "markdown",
   "metadata": {},
   "source": [
    "### AdaBoost"
   ]
  },
  {
   "cell_type": "code",
   "execution_count": 11,
   "metadata": {},
   "outputs": [
    {
     "name": "stdout",
     "output_type": "stream",
     "text": [
      "Fitting 4 folds for each of 32 candidates, totalling 128 fits\n"
     ]
    },
    {
     "name": "stderr",
     "output_type": "stream",
     "text": [
      "[Parallel(n_jobs=-1)]: Using backend LokyBackend with 12 concurrent workers.\n",
      "[Parallel(n_jobs=-1)]: Done   8 tasks      | elapsed:    0.5s\n",
      "[Parallel(n_jobs=-1)]: Done 104 tasks      | elapsed:   11.8s\n"
     ]
    },
    {
     "name": "stdout",
     "output_type": "stream",
     "text": [
      "{'algorithm': 'SAMME', 'learning_rate': 0.5, 'n_estimators': 50}\n",
      "                     precision    recall  f1-score   support\n",
      "\n",
      "Insufficient_Weight       0.92      0.91      0.92        54\n",
      "      Normal_Weight       0.76      0.64      0.69        58\n",
      "            Obesity       0.90      0.94      0.92       195\n",
      "         Overweight       0.79      0.80      0.79       116\n",
      "\n",
      "           accuracy                           0.86       423\n",
      "          macro avg       0.84      0.82      0.83       423\n",
      "       weighted avg       0.85      0.86      0.85       423\n",
      "\n"
     ]
    },
    {
     "name": "stderr",
     "output_type": "stream",
     "text": [
      "[Parallel(n_jobs=-1)]: Done 128 out of 128 | elapsed:   15.0s finished\n"
     ]
    }
   ],
   "source": [
    "param_grid = {'n_estimators': [50, 100, 250, 500],\n",
    "              'learning_rate': [0.25, 0.5, 0.75, 1],\n",
    "              'algorithm': ['SAMME', 'SAMME.R']}\n",
    "\n",
    "ada = AdaBoostClassifier(base_estimator = best_grid_dt, random_state = 1)\n",
    "grid_search_ada = GridSearchCV(estimator = ada, param_grid = param_grid, cv = 4, n_jobs = -1, verbose = 3)\n",
    "grid_search_ada.fit(X_train, y_train)\n",
    "print(grid_search_ada.best_params_)\n",
    "\n",
    "best_grid_ada = grid_search_ada.best_estimator_\n",
    "y_pred_ada = best_grid_ada.predict(X_test)\n",
    "\n",
    "print(classification_report(y_test, y_pred_ada))"
   ]
  },
  {
   "cell_type": "code",
   "execution_count": 12,
   "metadata": {},
   "outputs": [
    {
     "data": {
      "image/png": "[encoded data removed]",
      "text/plain": [
       "<Figure size 432x288 with 2 Axes>"
      ]
     },
     "metadata": {
      "needs_background": "light"
     },
     "output_type": "display_data"
    }
   ],
   "source": [
    "plot_confusion_matrix(best_grid_ada, X_test, y_test,  xticks_rotation = 'vertical', values_format = 'd')\n",
    "plt.show()"
   ]
  },
  {
   "cell_type": "markdown",
   "metadata": {},
   "source": [
    "### Voting classifier hard"
   ]
  },
  {
   "cell_type": "code",
   "execution_count": 13,
   "metadata": {},
   "outputs": [
    {
     "name": "stdout",
     "output_type": "stream",
     "text": [
      "                     precision    recall  f1-score   support\n",
      "\n",
      "Insufficient_Weight       0.94      0.93      0.93        54\n",
      "      Normal_Weight       0.71      0.71      0.71        58\n",
      "            Obesity       0.88      0.93      0.90       195\n",
      "         Overweight       0.81      0.72      0.76       116\n",
      "\n",
      "           accuracy                           0.84       423\n",
      "          macro avg       0.83      0.82      0.83       423\n",
      "       weighted avg       0.84      0.84      0.84       423\n",
      "\n"
     ]
    }
   ],
   "source": [
    "clf1 = best_grid_ada\n",
    "clf2 = best_grid_gbc\n",
    "clf3 = best_grid_rf\n",
    "\n",
    "eclf_hard = VotingClassifier(estimators = [('ada', clf1), ('gbc', clf2), ('rfc', clf3)], voting = 'hard')\n",
    "eclf_hard = eclf_hard.fit(X_train, y_train)\n",
    "\n",
    "y_pred_eclf_hard = eclf_hard.predict(X_test)\n",
    "\n",
    "print(classification_report(y_test, y_pred_eclf_hard))"
   ]
  },
  {
   "cell_type": "code",
   "execution_count": 14,
   "metadata": {},
   "outputs": [
    {
     "data": {
      "image/png": "[encoded data removed]",
      "text/plain": [
       "<Figure size 432x288 with 2 Axes>"
      ]
     },
     "metadata": {
      "needs_background": "light"
     },
     "output_type": "display_data"
    }
   ],
   "source": [
    "plot_confusion_matrix(eclf_hard, X_test, y_test,  xticks_rotation = 'vertical', values_format = 'd')\n",
    "plt.show()"
   ]
  },
  {
   "cell_type": "markdown",
   "metadata": {},
   "source": [
    "### Voting classifier soft"
   ]
  },
  {
   "cell_type": "code",
   "execution_count": 15,
   "metadata": {},
   "outputs": [
    {
     "name": "stdout",
     "output_type": "stream",
     "text": [
      "                     precision    recall  f1-score   support\n",
      "\n",
      "Insufficient_Weight       0.91      0.91      0.91        54\n",
      "      Normal_Weight       0.67      0.64      0.65        58\n",
      "            Obesity       0.88      0.92      0.90       195\n",
      "         Overweight       0.81      0.77      0.79       116\n",
      "\n",
      "           accuracy                           0.84       423\n",
      "          macro avg       0.82      0.81      0.81       423\n",
      "       weighted avg       0.83      0.84      0.84       423\n",
      "\n"
     ]
    }
   ],
   "source": [
    "clf1 = best_grid_ada\n",
    "clf2 = best_grid_gbc\n",
    "clf3 = best_grid_rf\n",
    "\n",
    "eclf_soft = VotingClassifier(estimators = [('ada', clf1), ('gbc', clf2), ('rfc', clf3)], voting = 'soft')\n",
    "eclf_soft = eclf_soft.fit(X_train, y_train)\n",
    "\n",
    "y_pred_eclf_soft = eclf_soft.predict(X_test)\n",
    "\n",
    "print(classification_report(y_test, y_pred_eclf_soft))"
   ]
  },
  {
   "cell_type": "code",
   "execution_count": 16,
   "metadata": {},
   "outputs": [
    {
     "data": {
      "image/png": "[encoded data removed]",
      "text/plain": [
       "<Figure size 432x288 with 2 Axes>"
      ]
     },
     "metadata": {
      "needs_background": "light"
     },
     "output_type": "display_data"
    }
   ],
   "source": [
    "plot_confusion_matrix(eclf_soft, X_test, y_test,  xticks_rotation = 'vertical', values_format = 'd')\n",
    "plt.show()"
   ]
  },
  {
   "cell_type": "markdown",
   "metadata": {},
   "source": [
    "## Models with less features\n",
    "\n",
    "Let's train the models with 4 categories in the target variable and without the three less important features."
   ]
  },
  {
   "cell_type": "code",
   "execution_count": 17,
   "metadata": {},
   "outputs": [],
   "source": [
    "X_train_less = X_train.drop(['Transport_Automobile', 'Transport_Public_Transportation', 'Transport_Walking', 'Smoke', 'Calories_monitoring'], axis = 1)\n",
    "X_test_less = X_test.drop(['Transport_Automobile', 'Transport_Public_Transportation', 'Transport_Walking', 'Smoke', 'Calories_monitoring'], axis = 1)"
   ]
  },
  {
   "cell_type": "markdown",
   "metadata": {},
   "source": [
    "### Decision tree"
   ]
  },
  {
   "cell_type": "code",
   "execution_count": 18,
   "metadata": {},
   "outputs": [
    {
     "name": "stdout",
     "output_type": "stream",
     "text": [
      "Fitting 4 folds for each of 84 candidates, totalling 336 fits\n"
     ]
    },
    {
     "name": "stderr",
     "output_type": "stream",
     "text": [
      "[Parallel(n_jobs=-1)]: Using backend LokyBackend with 12 concurrent workers.\n",
      "[Parallel(n_jobs=-1)]: Done   8 tasks      | elapsed:    0.0s\n"
     ]
    },
    {
     "name": "stdout",
     "output_type": "stream",
     "text": [
      "{'criterion': 'gini', 'max_depth': 10, 'max_features': 'auto', 'splitter': 'best'}\n",
      "                     precision    recall  f1-score   support\n",
      "\n",
      "Insufficient_Weight       0.76      0.69      0.72        54\n",
      "      Normal_Weight       0.52      0.45      0.48        58\n",
      "            Obesity       0.76      0.90      0.83       195\n",
      "         Overweight       0.63      0.51      0.56       116\n",
      "\n",
      "           accuracy                           0.70       423\n",
      "          macro avg       0.67      0.64      0.65       423\n",
      "       weighted avg       0.69      0.70      0.69       423\n",
      "\n"
     ]
    },
    {
     "name": "stderr",
     "output_type": "stream",
     "text": [
      "[Parallel(n_jobs=-1)]: Done 284 tasks      | elapsed:    0.3s\n",
      "[Parallel(n_jobs=-1)]: Done 336 out of 336 | elapsed:    0.3s finished\n"
     ]
    }
   ],
   "source": [
    "param_grid = {'criterion': ['gini', 'entropy'],\n",
    "              'max_depth': [2, 3, 4, 5, 6, 8, 10],\n",
    "              'max_features': ['auto', 'sqrt', 'log2'],\n",
    "              'splitter': ['best', 'random']}\n",
    "\n",
    "dt_2 = DecisionTreeClassifier(random_state = 1)\n",
    "grid_search_dt_2 = GridSearchCV(estimator = dt_2, param_grid = param_grid, cv = 4, n_jobs = -1, verbose = 3)\n",
    "grid_search_dt_2.fit(X_train_less, y_train)\n",
    "print(grid_search_dt_2.best_params_)\n",
    "\n",
    "best_grid_dt_2 = grid_search_dt_2.best_estimator_\n",
    "y_pred_dt_2 = best_grid_dt_2.predict(X_test_less)\n",
    "\n",
    "print(classification_report(y_test, y_pred_dt_2))"
   ]
  },
  {
   "cell_type": "code",
   "execution_count": 19,
   "metadata": {},
   "outputs": [
    {
     "data": {
      "image/png": "[encoded data removed]",
      "text/plain": [
       "<Figure size 432x288 with 2 Axes>"
      ]
     },
     "metadata": {
      "needs_background": "light"
     },
     "output_type": "display_data"
    }
   ],
   "source": [
    "plot_confusion_matrix(best_grid_dt_2, X_test_less, y_test,  xticks_rotation = 'vertical', values_format = 'd')\n",
    "plt.show()"
   ]
  },
  {
   "cell_type": "markdown",
   "metadata": {},
   "source": [
    "### Random forest"
   ]
  },
  {
   "cell_type": "code",
   "execution_count": 20,
   "metadata": {},
   "outputs": [
    {
     "name": "stdout",
     "output_type": "stream",
     "text": [
      "Fitting 4 folds for each of 126 candidates, totalling 504 fits\n"
     ]
    },
    {
     "name": "stderr",
     "output_type": "stream",
     "text": [
      "[Parallel(n_jobs=-1)]: Using backend LokyBackend with 12 concurrent workers.\n",
      "[Parallel(n_jobs=-1)]: Done   8 tasks      | elapsed:    0.4s\n",
      "[Parallel(n_jobs=-1)]: Done 104 tasks      | elapsed:    6.7s\n",
      "[Parallel(n_jobs=-1)]: Done 264 tasks      | elapsed:   18.9s\n",
      "[Parallel(n_jobs=-1)]: Done 504 out of 504 | elapsed:   37.2s finished\n"
     ]
    },
    {
     "name": "stdout",
     "output_type": "stream",
     "text": [
      "{'criterion': 'gini', 'max_depth': 10, 'max_features': 'auto', 'n_estimators': 500}\n",
      "                     precision    recall  f1-score   support\n",
      "\n",
      "Insufficient_Weight       0.91      0.93      0.92        54\n",
      "      Normal_Weight       0.72      0.57      0.63        58\n",
      "            Obesity       0.82      0.95      0.88       195\n",
      "         Overweight       0.81      0.66      0.72       116\n",
      "\n",
      "           accuracy                           0.82       423\n",
      "          macro avg       0.81      0.78      0.79       423\n",
      "       weighted avg       0.81      0.82      0.81       423\n",
      "\n"
     ]
    }
   ],
   "source": [
    "param_grid = {'criterion': ['gini', 'entropy'],\n",
    "              'max_depth': [2, 3, 4, 5, 6, 8, 10],\n",
    "              'max_features': ['auto', 'sqrt', 'log2'],\n",
    "              'n_estimators': [100, 250, 500]}\n",
    "\n",
    "rf_2 = RandomForestClassifier(random_state = 1)\n",
    "grid_search_rf_2 = GridSearchCV(estimator = rf_2, param_grid = param_grid, cv = 4, n_jobs = -1, verbose = 3)\n",
    "grid_search_rf_2.fit(X_train_less, y_train)\n",
    "print(grid_search_rf_2.best_params_)\n",
    "\n",
    "best_grid_rf_2 = grid_search_rf_2.best_estimator_\n",
    "y_pred_rf_2 = best_grid_rf_2.predict(X_test_less)\n",
    "\n",
    "print(classification_report(y_test, y_pred_rf_2))"
   ]
  },
  {
   "cell_type": "code",
   "execution_count": 21,
   "metadata": {},
   "outputs": [
    {
     "data": {
      "image/png": "[encoded data removed]",
      "text/plain": [
       "<Figure size 432x288 with 2 Axes>"
      ]
     },
     "metadata": {
      "needs_background": "light"
     },
     "output_type": "display_data"
    }
   ],
   "source": [
    "plot_confusion_matrix(best_grid_rf_2, X_test_less, y_test,  xticks_rotation = 'vertical', values_format = 'd')\n",
    "plt.show()"
   ]
  },
  {
   "cell_type": "markdown",
   "metadata": {},
   "source": [
    "### Gradient Boosting"
   ]
  },
  {
   "cell_type": "code",
   "execution_count": 22,
   "metadata": {},
   "outputs": [
    {
     "name": "stdout",
     "output_type": "stream",
     "text": [
      "Fitting 4 folds for each of 140 candidates, totalling 560 fits\n"
     ]
    },
    {
     "name": "stderr",
     "output_type": "stream",
     "text": [
      "[Parallel(n_jobs=-1)]: Using backend LokyBackend with 12 concurrent workers.\n",
      "[Parallel(n_jobs=-1)]: Done   8 tasks      | elapsed:    0.8s\n",
      "[Parallel(n_jobs=-1)]: Done 104 tasks      | elapsed:   20.8s\n",
      "[Parallel(n_jobs=-1)]: Done 264 tasks      | elapsed:   51.7s\n",
      "[Parallel(n_jobs=-1)]: Done 488 tasks      | elapsed:  1.6min\n",
      "[Parallel(n_jobs=-1)]: Done 560 out of 560 | elapsed:  1.9min finished\n"
     ]
    },
    {
     "name": "stdout",
     "output_type": "stream",
     "text": [
      "{'learning_rate': 0.2, 'max_depth': 6, 'n_estimators': 100}\n",
      "                     precision    recall  f1-score   support\n",
      "\n",
      "Insufficient_Weight       0.96      0.91      0.93        54\n",
      "      Normal_Weight       0.66      0.67      0.67        58\n",
      "            Obesity       0.86      0.89      0.87       195\n",
      "         Overweight       0.73      0.70      0.71       116\n",
      "\n",
      "           accuracy                           0.81       423\n",
      "          macro avg       0.80      0.79      0.80       423\n",
      "       weighted avg       0.81      0.81      0.81       423\n",
      "\n"
     ]
    }
   ],
   "source": [
    "param_grid = {'n_estimators': [50, 100, 150, 200],\n",
    "              'learning_rate': [0.2, 0.4, 0.5, 0.7, 1],\n",
    "              'max_depth': [2, 3, 4, 5, 6, 7, 8]}\n",
    "\n",
    "gbc_2 = GradientBoostingClassifier(random_state = 1)\n",
    "grid_search_gbc_2 = GridSearchCV(estimator = gbc_2, param_grid = param_grid, cv = 4, n_jobs = -1, verbose = 3)\n",
    "grid_search_gbc_2.fit(X_train_less, y_train)\n",
    "print(grid_search_gbc_2.best_params_)\n",
    "\n",
    "best_grid_gbc_2 = grid_search_gbc_2.best_estimator_\n",
    "y_pred_gbc_2 = best_grid_gbc_2.predict(X_test_less)\n",
    "\n",
    "print(classification_report(y_test, y_pred_gbc_2))"
   ]
  },
  {
   "cell_type": "code",
   "execution_count": 23,
   "metadata": {},
   "outputs": [
    {
     "data": {
      "image/png": "[encoded data removed]",
      "text/plain": [
       "<Figure size 432x288 with 2 Axes>"
      ]
     },
     "metadata": {
      "needs_background": "light"
     },
     "output_type": "display_data"
    }
   ],
   "source": [
    "plot_confusion_matrix(best_grid_gbc_2, X_test_less, y_test,  xticks_rotation = 'vertical', values_format = 'd')\n",
    "plt.show()"
   ]
  },
  {
   "cell_type": "markdown",
   "metadata": {},
   "source": [
    "### AdaBoost"
   ]
  },
  {
   "cell_type": "code",
   "execution_count": 24,
   "metadata": {},
   "outputs": [
    {
     "name": "stdout",
     "output_type": "stream",
     "text": [
      "Fitting 4 folds for each of 32 candidates, totalling 128 fits\n"
     ]
    },
    {
     "name": "stderr",
     "output_type": "stream",
     "text": [
      "[Parallel(n_jobs=-1)]: Using backend LokyBackend with 12 concurrent workers.\n",
      "[Parallel(n_jobs=-1)]: Done   8 tasks      | elapsed:    0.6s\n",
      "[Parallel(n_jobs=-1)]: Done 104 tasks      | elapsed:   11.8s\n",
      "[Parallel(n_jobs=-1)]: Done 128 out of 128 | elapsed:   14.7s finished\n"
     ]
    },
    {
     "name": "stdout",
     "output_type": "stream",
     "text": [
      "{'algorithm': 'SAMME', 'learning_rate': 0.5, 'n_estimators': 100}\n",
      "                     precision    recall  f1-score   support\n",
      "\n",
      "Insufficient_Weight       0.92      0.85      0.88        54\n",
      "      Normal_Weight       0.66      0.53      0.59        58\n",
      "            Obesity       0.88      0.93      0.90       195\n",
      "         Overweight       0.77      0.79      0.78       116\n",
      "\n",
      "           accuracy                           0.83       423\n",
      "          macro avg       0.81      0.78      0.79       423\n",
      "       weighted avg       0.82      0.83      0.82       423\n",
      "\n"
     ]
    }
   ],
   "source": [
    "param_grid = {'n_estimators': [50, 100, 250, 500],\n",
    "              'learning_rate': [0.25, 0.5, 0.75, 1],\n",
    "              'algorithm': ['SAMME', 'SAMME.R']}\n",
    "\n",
    "ada_2 = AdaBoostClassifier(base_estimator = best_grid_dt_2, random_state = 1)\n",
    "grid_search_ada_2 = GridSearchCV(estimator = ada_2, param_grid = param_grid, cv = 4, n_jobs = -1, verbose = 3)\n",
    "grid_search_ada_2.fit(X_train_less, y_train)\n",
    "print(grid_search_ada_2.best_params_)\n",
    "\n",
    "best_grid_ada_2 = grid_search_ada_2.best_estimator_\n",
    "y_pred_ada_2 = best_grid_ada_2.predict(X_test_less)\n",
    "\n",
    "print(classification_report(y_test, y_pred_ada_2))"
   ]
  },
  {
   "cell_type": "code",
   "execution_count": 25,
   "metadata": {},
   "outputs": [
    {
     "data": {
      "image/png": "[encoded data removed]",
      "text/plain": [
       "<Figure size 432x288 with 2 Axes>"
      ]
     },
     "metadata": {
      "needs_background": "light"
     },
     "output_type": "display_data"
    }
   ],
   "source": [
    "plot_confusion_matrix(best_grid_ada_2, X_test_less, y_test,  xticks_rotation = 'vertical', values_format = 'd')\n",
    "plt.show()"
   ]
  },
  {
   "cell_type": "markdown",
   "metadata": {},
   "source": [
    "### Voting classifier hard"
   ]
  },
  {
   "cell_type": "code",
   "execution_count": 26,
   "metadata": {},
   "outputs": [
    {
     "name": "stdout",
     "output_type": "stream",
     "text": [
      "                     precision    recall  f1-score   support\n",
      "\n",
      "Insufficient_Weight       0.96      0.93      0.94        54\n",
      "      Normal_Weight       0.68      0.66      0.67        58\n",
      "            Obesity       0.87      0.93      0.90       195\n",
      "         Overweight       0.80      0.73      0.77       116\n",
      "\n",
      "           accuracy                           0.84       423\n",
      "          macro avg       0.83      0.81      0.82       423\n",
      "       weighted avg       0.83      0.84      0.83       423\n",
      "\n"
     ]
    }
   ],
   "source": [
    "clf1_2 = best_grid_ada_2\n",
    "clf2_2 = best_grid_gbc_2\n",
    "clf3_2 = best_grid_rf_2\n",
    "\n",
    "eclf_hard_2 = VotingClassifier(estimators = [('ada', clf1_2), ('gbc', clf2_2), ('rfc', clf3_2)], voting = 'hard')\n",
    "eclf_hard_2 = eclf_hard_2.fit(X_train_less, y_train)\n",
    "\n",
    "y_pred_eclf_hard_2 = eclf_hard_2.predict(X_test_less)\n",
    "\n",
    "print(classification_report(y_test, y_pred_eclf_hard_2))"
   ]
  },
  {
   "cell_type": "code",
   "execution_count": 27,
   "metadata": {},
   "outputs": [
    {
     "data": {
      "image/png": "[encoded data removed]",
      "text/plain": [
       "<Figure size 432x288 with 2 Axes>"
      ]
     },
     "metadata": {
      "needs_background": "light"
     },
     "output_type": "display_data"
    }
   ],
   "source": [
    "plot_confusion_matrix(eclf_hard_2, X_test_less, y_test,  xticks_rotation = 'vertical', values_format = 'd')\n",
    "plt.show()"
   ]
  },
  {
   "cell_type": "markdown",
   "metadata": {},
   "source": [
    "### Voting classifier soft"
   ]
  },
  {
   "cell_type": "code",
   "execution_count": 28,
   "metadata": {},
   "outputs": [
    {
     "name": "stdout",
     "output_type": "stream",
     "text": [
      "                     precision    recall  f1-score   support\n",
      "\n",
      "Insufficient_Weight       0.96      0.91      0.93        54\n",
      "      Normal_Weight       0.69      0.62      0.65        58\n",
      "            Obesity       0.85      0.91      0.88       195\n",
      "         Overweight       0.74      0.72      0.73       116\n",
      "\n",
      "           accuracy                           0.82       423\n",
      "          macro avg       0.81      0.79      0.80       423\n",
      "       weighted avg       0.81      0.82      0.81       423\n",
      "\n"
     ]
    }
   ],
   "source": [
    "clf1_2 = best_grid_ada_2\n",
    "clf2_2 = best_grid_gbc_2\n",
    "clf3_2 = best_grid_rf_2\n",
    "\n",
    "eclf_soft_2 = VotingClassifier(estimators = [('ada', clf1_2), ('gbc', clf2_2), ('rfc', clf3_2)], voting = 'soft')\n",
    "eclf_soft_2 = eclf_soft_2.fit(X_train_less, y_train)\n",
    "\n",
    "y_pred_eclf_soft_2 = eclf_soft_2.predict(X_test_less)\n",
    "\n",
    "print(classification_report(y_test, y_pred_eclf_soft_2))"
   ]
  },
  {
   "cell_type": "code",
   "execution_count": 29,
   "metadata": {},
   "outputs": [
    {
     "data": {
      "image/png": "[encoded data removed]",
      "text/plain": [
       "<Figure size 432x288 with 2 Axes>"
      ]
     },
     "metadata": {
      "needs_background": "light"
     },
     "output_type": "display_data"
    }
   ],
   "source": [
    "plot_confusion_matrix(eclf_soft_2, X_test_less, y_test,  xticks_rotation = 'vertical', values_format = 'd')\n",
    "plt.show()"
   ]
  },
  {
   "cell_type": "markdown",
   "metadata": {},
   "source": [
    "## 4 categories resume"
   ]
  },
  {
   "cell_type": "code",
   "execution_count": 59,
   "metadata": {},
   "outputs": [
    {
     "data": {
      "text/html": [
       "<div>\n",
       "<style scoped>\n",
       "    .dataframe tbody tr th:only-of-type {\n",
       "        vertical-align: middle;\n",
       "    }\n",
       "\n",
       "    .dataframe tbody tr th {\n",
       "        vertical-align: top;\n",
       "    }\n",
       "\n",
       "    .dataframe thead th {\n",
       "        text-align: right;\n",
       "    }\n",
       "</style>\n",
       "<table border=\"1\" class=\"dataframe\">\n",
       "  <thead>\n",
       "    <tr style=\"text-align: right;\">\n",
       "      <th></th>\n",
       "      <th>Model</th>\n",
       "      <th>All features accuracy</th>\n",
       "      <th>Less features accuracy</th>\n",
       "    </tr>\n",
       "  </thead>\n",
       "  <tbody>\n",
       "    <tr>\n",
       "      <th>0</th>\n",
       "      <td>Decision tree</td>\n",
       "      <td>0.72</td>\n",
       "      <td>0.70</td>\n",
       "    </tr>\n",
       "    <tr>\n",
       "      <th>1</th>\n",
       "      <td>Random forest</td>\n",
       "      <td>0.81</td>\n",
       "      <td>0.82</td>\n",
       "    </tr>\n",
       "    <tr>\n",
       "      <th>2</th>\n",
       "      <td>Gradient boosting</td>\n",
       "      <td>0.82</td>\n",
       "      <td>0.81</td>\n",
       "    </tr>\n",
       "    <tr>\n",
       "      <th>3</th>\n",
       "      <td>AdaBoost</td>\n",
       "      <td>0.86</td>\n",
       "      <td>0.83</td>\n",
       "    </tr>\n",
       "    <tr>\n",
       "      <th>4</th>\n",
       "      <td>Voting classifier hard</td>\n",
       "      <td>0.84</td>\n",
       "      <td>0.84</td>\n",
       "    </tr>\n",
       "    <tr>\n",
       "      <th>5</th>\n",
       "      <td>Voting classifier soft</td>\n",
       "      <td>0.84</td>\n",
       "      <td>0.82</td>\n",
       "    </tr>\n",
       "  </tbody>\n",
       "</table>\n",
       "</div>"
      ],
      "text/plain": [
       "                    Model  All features accuracy  Less features accuracy\n",
       "0           Decision tree                   0.72                    0.70\n",
       "1           Random forest                   0.81                    0.82\n",
       "2       Gradient boosting                   0.82                    0.81\n",
       "3                AdaBoost                   0.86                    0.83\n",
       "4  Voting classifier hard                   0.84                    0.84\n",
       "5  Voting classifier soft                   0.84                    0.82"
      ]
     },
     "execution_count": 59,
     "metadata": {},
     "output_type": "execute_result"
    }
   ],
   "source": [
    "four_cat_res = pd.DataFrame({'Model': ['Decision tree', 'Random forest', 'Gradient boosting', 'AdaBoost',\n",
    "                                      'Voting classifier hard', 'Voting classifier soft'],\n",
    "                             'All features accuracy': [0.72, 0.81, 0.82, 0.86, 0.84, 0.84],\n",
    "                             'Less features accuracy': [0.70, 0.82, 0.81, 0.83, 0.84, 0.82]})\n",
    "four_cat_res"
   ]
  },
  {
   "cell_type": "markdown",
   "metadata": {},
   "source": [
    "# Models with 3 categories\n",
    "\n",
    "Let's explore now the models with 3 categories in the target variable and with all the features. "
   ]
  },
  {
   "cell_type": "code",
   "execution_count": 31,
   "metadata": {},
   "outputs": [
    {
     "data": {
      "text/html": [
       "<div>\n",
       "<style scoped>\n",
       "    .dataframe tbody tr th:only-of-type {\n",
       "        vertical-align: middle;\n",
       "    }\n",
       "\n",
       "    .dataframe tbody tr th {\n",
       "        vertical-align: top;\n",
       "    }\n",
       "\n",
       "    .dataframe thead th {\n",
       "        text-align: right;\n",
       "    }\n",
       "</style>\n",
       "<table border=\"1\" class=\"dataframe\">\n",
       "  <thead>\n",
       "    <tr style=\"text-align: right;\">\n",
       "      <th></th>\n",
       "      <th>Gender</th>\n",
       "      <th>Age</th>\n",
       "      <th>Family_overweight</th>\n",
       "      <th>High_cal_food</th>\n",
       "      <th>Vegetables</th>\n",
       "      <th>Number_meals</th>\n",
       "      <th>Eat_between_meals</th>\n",
       "      <th>Smoke</th>\n",
       "      <th>Water</th>\n",
       "      <th>Calories_monitoring</th>\n",
       "      <th>Exercise_time</th>\n",
       "      <th>Technologies_time</th>\n",
       "      <th>Alcohol</th>\n",
       "      <th>NObeyesdad</th>\n",
       "      <th>Transport_Automobile</th>\n",
       "      <th>Transport_Public_Transportation</th>\n",
       "      <th>Transport_Walking</th>\n",
       "    </tr>\n",
       "  </thead>\n",
       "  <tbody>\n",
       "    <tr>\n",
       "      <th>0</th>\n",
       "      <td>1</td>\n",
       "      <td>21.000000</td>\n",
       "      <td>1</td>\n",
       "      <td>0</td>\n",
       "      <td>1</td>\n",
       "      <td>1</td>\n",
       "      <td>1</td>\n",
       "      <td>0</td>\n",
       "      <td>1</td>\n",
       "      <td>0</td>\n",
       "      <td>0</td>\n",
       "      <td>1</td>\n",
       "      <td>0</td>\n",
       "      <td>Infra-Normal_weight</td>\n",
       "      <td>0</td>\n",
       "      <td>1</td>\n",
       "      <td>0</td>\n",
       "    </tr>\n",
       "    <tr>\n",
       "      <th>1</th>\n",
       "      <td>1</td>\n",
       "      <td>21.000000</td>\n",
       "      <td>1</td>\n",
       "      <td>0</td>\n",
       "      <td>2</td>\n",
       "      <td>1</td>\n",
       "      <td>1</td>\n",
       "      <td>1</td>\n",
       "      <td>2</td>\n",
       "      <td>1</td>\n",
       "      <td>3</td>\n",
       "      <td>0</td>\n",
       "      <td>1</td>\n",
       "      <td>Infra-Normal_weight</td>\n",
       "      <td>0</td>\n",
       "      <td>1</td>\n",
       "      <td>0</td>\n",
       "    </tr>\n",
       "    <tr>\n",
       "      <th>2</th>\n",
       "      <td>0</td>\n",
       "      <td>23.000000</td>\n",
       "      <td>1</td>\n",
       "      <td>0</td>\n",
       "      <td>1</td>\n",
       "      <td>1</td>\n",
       "      <td>1</td>\n",
       "      <td>0</td>\n",
       "      <td>1</td>\n",
       "      <td>0</td>\n",
       "      <td>2</td>\n",
       "      <td>1</td>\n",
       "      <td>2</td>\n",
       "      <td>Infra-Normal_weight</td>\n",
       "      <td>0</td>\n",
       "      <td>1</td>\n",
       "      <td>0</td>\n",
       "    </tr>\n",
       "    <tr>\n",
       "      <th>3</th>\n",
       "      <td>0</td>\n",
       "      <td>27.000000</td>\n",
       "      <td>0</td>\n",
       "      <td>0</td>\n",
       "      <td>2</td>\n",
       "      <td>1</td>\n",
       "      <td>1</td>\n",
       "      <td>0</td>\n",
       "      <td>1</td>\n",
       "      <td>0</td>\n",
       "      <td>2</td>\n",
       "      <td>0</td>\n",
       "      <td>2</td>\n",
       "      <td>Overweight</td>\n",
       "      <td>0</td>\n",
       "      <td>0</td>\n",
       "      <td>1</td>\n",
       "    </tr>\n",
       "    <tr>\n",
       "      <th>4</th>\n",
       "      <td>0</td>\n",
       "      <td>22.000000</td>\n",
       "      <td>0</td>\n",
       "      <td>0</td>\n",
       "      <td>1</td>\n",
       "      <td>0</td>\n",
       "      <td>1</td>\n",
       "      <td>0</td>\n",
       "      <td>1</td>\n",
       "      <td>0</td>\n",
       "      <td>0</td>\n",
       "      <td>0</td>\n",
       "      <td>1</td>\n",
       "      <td>Overweight</td>\n",
       "      <td>0</td>\n",
       "      <td>1</td>\n",
       "      <td>0</td>\n",
       "    </tr>\n",
       "    <tr>\n",
       "      <th>...</th>\n",
       "      <td>...</td>\n",
       "      <td>...</td>\n",
       "      <td>...</td>\n",
       "      <td>...</td>\n",
       "      <td>...</td>\n",
       "      <td>...</td>\n",
       "      <td>...</td>\n",
       "      <td>...</td>\n",
       "      <td>...</td>\n",
       "      <td>...</td>\n",
       "      <td>...</td>\n",
       "      <td>...</td>\n",
       "      <td>...</td>\n",
       "      <td>...</td>\n",
       "      <td>...</td>\n",
       "      <td>...</td>\n",
       "      <td>...</td>\n",
       "    </tr>\n",
       "    <tr>\n",
       "      <th>2106</th>\n",
       "      <td>1</td>\n",
       "      <td>20.976842</td>\n",
       "      <td>1</td>\n",
       "      <td>1</td>\n",
       "      <td>2</td>\n",
       "      <td>1</td>\n",
       "      <td>1</td>\n",
       "      <td>0</td>\n",
       "      <td>1</td>\n",
       "      <td>0</td>\n",
       "      <td>2</td>\n",
       "      <td>1</td>\n",
       "      <td>1</td>\n",
       "      <td>Obesity</td>\n",
       "      <td>0</td>\n",
       "      <td>1</td>\n",
       "      <td>0</td>\n",
       "    </tr>\n",
       "    <tr>\n",
       "      <th>2107</th>\n",
       "      <td>1</td>\n",
       "      <td>21.982942</td>\n",
       "      <td>1</td>\n",
       "      <td>1</td>\n",
       "      <td>2</td>\n",
       "      <td>1</td>\n",
       "      <td>1</td>\n",
       "      <td>0</td>\n",
       "      <td>1</td>\n",
       "      <td>0</td>\n",
       "      <td>1</td>\n",
       "      <td>1</td>\n",
       "      <td>1</td>\n",
       "      <td>Obesity</td>\n",
       "      <td>0</td>\n",
       "      <td>1</td>\n",
       "      <td>0</td>\n",
       "    </tr>\n",
       "    <tr>\n",
       "      <th>2108</th>\n",
       "      <td>1</td>\n",
       "      <td>22.524036</td>\n",
       "      <td>1</td>\n",
       "      <td>1</td>\n",
       "      <td>2</td>\n",
       "      <td>1</td>\n",
       "      <td>1</td>\n",
       "      <td>0</td>\n",
       "      <td>1</td>\n",
       "      <td>0</td>\n",
       "      <td>1</td>\n",
       "      <td>1</td>\n",
       "      <td>1</td>\n",
       "      <td>Obesity</td>\n",
       "      <td>0</td>\n",
       "      <td>1</td>\n",
       "      <td>0</td>\n",
       "    </tr>\n",
       "    <tr>\n",
       "      <th>2109</th>\n",
       "      <td>1</td>\n",
       "      <td>24.361936</td>\n",
       "      <td>1</td>\n",
       "      <td>1</td>\n",
       "      <td>2</td>\n",
       "      <td>1</td>\n",
       "      <td>1</td>\n",
       "      <td>0</td>\n",
       "      <td>2</td>\n",
       "      <td>0</td>\n",
       "      <td>1</td>\n",
       "      <td>1</td>\n",
       "      <td>1</td>\n",
       "      <td>Obesity</td>\n",
       "      <td>0</td>\n",
       "      <td>1</td>\n",
       "      <td>0</td>\n",
       "    </tr>\n",
       "    <tr>\n",
       "      <th>2110</th>\n",
       "      <td>1</td>\n",
       "      <td>23.664709</td>\n",
       "      <td>1</td>\n",
       "      <td>1</td>\n",
       "      <td>2</td>\n",
       "      <td>1</td>\n",
       "      <td>1</td>\n",
       "      <td>0</td>\n",
       "      <td>2</td>\n",
       "      <td>0</td>\n",
       "      <td>1</td>\n",
       "      <td>1</td>\n",
       "      <td>1</td>\n",
       "      <td>Obesity</td>\n",
       "      <td>0</td>\n",
       "      <td>1</td>\n",
       "      <td>0</td>\n",
       "    </tr>\n",
       "  </tbody>\n",
       "</table>\n",
       "<p>2111 rows × 17 columns</p>\n",
       "</div>"
      ],
      "text/plain": [
       "      Gender        Age  Family_overweight  High_cal_food  Vegetables  \\\n",
       "0          1  21.000000                  1              0           1   \n",
       "1          1  21.000000                  1              0           2   \n",
       "2          0  23.000000                  1              0           1   \n",
       "3          0  27.000000                  0              0           2   \n",
       "4          0  22.000000                  0              0           1   \n",
       "...      ...        ...                ...            ...         ...   \n",
       "2106       1  20.976842                  1              1           2   \n",
       "2107       1  21.982942                  1              1           2   \n",
       "2108       1  22.524036                  1              1           2   \n",
       "2109       1  24.361936                  1              1           2   \n",
       "2110       1  23.664709                  1              1           2   \n",
       "\n",
       "      Number_meals  Eat_between_meals  Smoke  Water  Calories_monitoring  \\\n",
       "0                1                  1      0      1                    0   \n",
       "1                1                  1      1      2                    1   \n",
       "2                1                  1      0      1                    0   \n",
       "3                1                  1      0      1                    0   \n",
       "4                0                  1      0      1                    0   \n",
       "...            ...                ...    ...    ...                  ...   \n",
       "2106             1                  1      0      1                    0   \n",
       "2107             1                  1      0      1                    0   \n",
       "2108             1                  1      0      1                    0   \n",
       "2109             1                  1      0      2                    0   \n",
       "2110             1                  1      0      2                    0   \n",
       "\n",
       "      Exercise_time  Technologies_time  Alcohol           NObeyesdad  \\\n",
       "0                 0                  1        0  Infra-Normal_weight   \n",
       "1                 3                  0        1  Infra-Normal_weight   \n",
       "2                 2                  1        2  Infra-Normal_weight   \n",
       "3                 2                  0        2           Overweight   \n",
       "4                 0                  0        1           Overweight   \n",
       "...             ...                ...      ...                  ...   \n",
       "2106              2                  1        1              Obesity   \n",
       "2107              1                  1        1              Obesity   \n",
       "2108              1                  1        1              Obesity   \n",
       "2109              1                  1        1              Obesity   \n",
       "2110              1                  1        1              Obesity   \n",
       "\n",
       "      Transport_Automobile  Transport_Public_Transportation  Transport_Walking  \n",
       "0                        0                                1                  0  \n",
       "1                        0                                1                  0  \n",
       "2                        0                                1                  0  \n",
       "3                        0                                0                  1  \n",
       "4                        0                                1                  0  \n",
       "...                    ...                              ...                ...  \n",
       "2106                     0                                1                  0  \n",
       "2107                     0                                1                  0  \n",
       "2108                     0                                1                  0  \n",
       "2109                     0                                1                  0  \n",
       "2110                     0                                1                  0  \n",
       "\n",
       "[2111 rows x 17 columns]"
      ]
     },
     "execution_count": 31,
     "metadata": {},
     "output_type": "execute_result"
    }
   ],
   "source": [
    "new_data = data.copy()\n",
    "new_data.NObeyesdad = new_data.NObeyesdad.apply(lambda x: 'Infra-Normal_weight' if x in ['Insufficient_Weight', 'Normal_Weight'] else x)\n",
    "new_data['NObeyesdad'] = pd.Categorical(new_data['NObeyesdad'], categories = ['Infra-Normal_weight', 'Overweight', 'Obesity'])\n",
    "new_data"
   ]
  },
  {
   "cell_type": "code",
   "execution_count": 32,
   "metadata": {},
   "outputs": [],
   "source": [
    "X_2 = new_data.drop('NObeyesdad', axis = 1)\n",
    "y_2 = new_data.iloc[:, -4]\n",
    "X_train_2, X_test_2, y_train_2, y_test_2 = train_test_split(X_2, y_2, test_size = 0.2, stratify = y_2, random_state = 123)"
   ]
  },
  {
   "cell_type": "markdown",
   "metadata": {},
   "source": [
    "## Models with all the features\n",
    "\n",
    "### Decision tree"
   ]
  },
  {
   "cell_type": "code",
   "execution_count": 33,
   "metadata": {},
   "outputs": [
    {
     "name": "stdout",
     "output_type": "stream",
     "text": [
      "Fitting 4 folds for each of 84 candidates, totalling 336 fits\n"
     ]
    },
    {
     "name": "stderr",
     "output_type": "stream",
     "text": [
      "[Parallel(n_jobs=-1)]: Using backend LokyBackend with 12 concurrent workers.\n",
      "[Parallel(n_jobs=-1)]: Done   8 tasks      | elapsed:    0.0s\n"
     ]
    },
    {
     "name": "stdout",
     "output_type": "stream",
     "text": [
      "{'criterion': 'gini', 'max_depth': 10, 'max_features': 'auto', 'splitter': 'best'}\n",
      "                     precision    recall  f1-score   support\n",
      "\n",
      "Infra-Normal_weight       0.78      0.71      0.74       112\n",
      "            Obesity       0.84      0.79      0.82       195\n",
      "         Overweight       0.62      0.72      0.67       116\n",
      "\n",
      "           accuracy                           0.75       423\n",
      "          macro avg       0.75      0.74      0.74       423\n",
      "       weighted avg       0.76      0.75      0.76       423\n",
      "\n"
     ]
    },
    {
     "name": "stderr",
     "output_type": "stream",
     "text": [
      "[Parallel(n_jobs=-1)]: Done 277 tasks      | elapsed:    0.3s\n",
      "[Parallel(n_jobs=-1)]: Done 336 out of 336 | elapsed:    0.4s finished\n"
     ]
    }
   ],
   "source": [
    "param_grid = {'criterion': ['gini', 'entropy'],\n",
    "              'max_depth': [2, 3, 4, 5, 6, 8, 10],\n",
    "              'max_features': ['auto', 'sqrt', 'log2'],\n",
    "              'splitter': ['best', 'random']}\n",
    "\n",
    "dt_3 = DecisionTreeClassifier(random_state = 1)\n",
    "grid_search_dt_3 = GridSearchCV(estimator = dt_3, param_grid = param_grid, cv = 4, n_jobs = -1, verbose = 3)\n",
    "grid_search_dt_3.fit(X_train_2, y_train_2)\n",
    "print(grid_search_dt_3.best_params_)\n",
    "\n",
    "best_grid_dt_3 = grid_search_dt_3.best_estimator_\n",
    "y_pred_dt_3 = best_grid_dt_3.predict(X_test_2)\n",
    "\n",
    "print(classification_report(y_test_2, y_pred_dt_3))"
   ]
  },
  {
   "cell_type": "code",
   "execution_count": 34,
   "metadata": {},
   "outputs": [
    {
     "data": {
      "image/png": "[encoded data removed]",
      "text/plain": [
       "<Figure size 432x288 with 2 Axes>"
      ]
     },
     "metadata": {
      "needs_background": "light"
     },
     "output_type": "display_data"
    }
   ],
   "source": [
    "plot_confusion_matrix(best_grid_dt_3, X_test_2, y_test_2,  xticks_rotation = 'vertical', values_format = 'd')\n",
    "plt.show()"
   ]
  },
  {
   "cell_type": "markdown",
   "metadata": {},
   "source": [
    "### Random forest"
   ]
  },
  {
   "cell_type": "code",
   "execution_count": 35,
   "metadata": {},
   "outputs": [
    {
     "name": "stdout",
     "output_type": "stream",
     "text": [
      "Fitting 4 folds for each of 126 candidates, totalling 504 fits\n"
     ]
    },
    {
     "name": "stderr",
     "output_type": "stream",
     "text": [
      "[Parallel(n_jobs=-1)]: Using backend LokyBackend with 12 concurrent workers.\n",
      "[Parallel(n_jobs=-1)]: Done   8 tasks      | elapsed:    0.5s\n",
      "[Parallel(n_jobs=-1)]: Done 104 tasks      | elapsed:    6.9s\n",
      "[Parallel(n_jobs=-1)]: Done 264 tasks      | elapsed:   19.4s\n",
      "[Parallel(n_jobs=-1)]: Done 504 out of 504 | elapsed:   38.4s finished\n"
     ]
    },
    {
     "name": "stdout",
     "output_type": "stream",
     "text": [
      "{'criterion': 'gini', 'max_depth': 10, 'max_features': 'auto', 'n_estimators': 250}\n",
      "                     precision    recall  f1-score   support\n",
      "\n",
      "Infra-Normal_weight       0.88      0.85      0.86       112\n",
      "            Obesity       0.81      0.95      0.87       195\n",
      "         Overweight       0.85      0.61      0.71       116\n",
      "\n",
      "           accuracy                           0.83       423\n",
      "          macro avg       0.84      0.80      0.82       423\n",
      "       weighted avg       0.84      0.83      0.83       423\n",
      "\n"
     ]
    }
   ],
   "source": [
    "param_grid = {'criterion': ['gini', 'entropy'],\n",
    "              'max_depth': [2, 3, 4, 5, 6, 8, 10],\n",
    "              'max_features': ['auto', 'sqrt', 'log2'],\n",
    "              'n_estimators': [100, 250, 500]}\n",
    "\n",
    "rf_3 = RandomForestClassifier(random_state = 1)\n",
    "grid_search_rf_3 = GridSearchCV(estimator = rf_3, param_grid = param_grid, cv = 4, n_jobs = -1, verbose = 3)\n",
    "grid_search_rf_3.fit(X_train_2, y_train_2)\n",
    "print(grid_search_rf_3.best_params_)\n",
    "\n",
    "best_grid_rf_3 = grid_search_rf_3.best_estimator_\n",
    "y_pred_rf_3 = best_grid_rf_3.predict(X_test_2)\n",
    "\n",
    "print(classification_report(y_test_2, y_pred_rf_3))"
   ]
  },
  {
   "cell_type": "code",
   "execution_count": 36,
   "metadata": {},
   "outputs": [
    {
     "data": {
      "image/png": "[encoded data removed]",
      "text/plain": [
       "<Figure size 432x288 with 2 Axes>"
      ]
     },
     "metadata": {
      "needs_background": "light"
     },
     "output_type": "display_data"
    }
   ],
   "source": [
    "plot_confusion_matrix(best_grid_rf_3, X_test_2, y_test_2,  xticks_rotation = 'vertical', values_format = 'd')\n",
    "plt.show()"
   ]
  },
  {
   "cell_type": "markdown",
   "metadata": {},
   "source": [
    "### Gradient Boosting"
   ]
  },
  {
   "cell_type": "code",
   "execution_count": 37,
   "metadata": {},
   "outputs": [
    {
     "name": "stdout",
     "output_type": "stream",
     "text": [
      "Fitting 4 folds for each of 140 candidates, totalling 560 fits\n"
     ]
    },
    {
     "name": "stderr",
     "output_type": "stream",
     "text": [
      "[Parallel(n_jobs=-1)]: Using backend LokyBackend with 12 concurrent workers.\n",
      "[Parallel(n_jobs=-1)]: Done   8 tasks      | elapsed:    0.5s\n",
      "[Parallel(n_jobs=-1)]: Done 104 tasks      | elapsed:   15.5s\n",
      "[Parallel(n_jobs=-1)]: Done 264 tasks      | elapsed:   39.8s\n",
      "[Parallel(n_jobs=-1)]: Done 488 tasks      | elapsed:  1.3min\n",
      "[Parallel(n_jobs=-1)]: Done 560 out of 560 | elapsed:  1.5min finished\n"
     ]
    },
    {
     "name": "stdout",
     "output_type": "stream",
     "text": [
      "{'learning_rate': 0.7, 'max_depth': 7, 'n_estimators': 50}\n",
      "                     precision    recall  f1-score   support\n",
      "\n",
      "Infra-Normal_weight       0.86      0.83      0.85       112\n",
      "            Obesity       0.88      0.92      0.90       195\n",
      "         Overweight       0.80      0.78      0.79       116\n",
      "\n",
      "           accuracy                           0.86       423\n",
      "          macro avg       0.85      0.84      0.84       423\n",
      "       weighted avg       0.85      0.86      0.86       423\n",
      "\n"
     ]
    }
   ],
   "source": [
    "param_grid = {'n_estimators': [50, 100, 150, 200],\n",
    "              'learning_rate': [0.2, 0.4, 0.5, 0.7, 1],\n",
    "              'max_depth': [2, 3, 4, 5, 6, 7, 8]}\n",
    "\n",
    "gbc_3 = GradientBoostingClassifier(random_state = 1)\n",
    "grid_search_gbc_3 = GridSearchCV(estimator = gbc_3, param_grid = param_grid, cv = 4, n_jobs = -1, verbose = 3)\n",
    "grid_search_gbc_3.fit(X_train_2, y_train_2)\n",
    "print(grid_search_gbc_3.best_params_)\n",
    "\n",
    "best_grid_gbc_3 = grid_search_gbc_3.best_estimator_\n",
    "y_pred_gbc_3 = best_grid_gbc_3.predict(X_test_2)\n",
    "\n",
    "print(classification_report(y_test_2, y_pred_gbc_3))"
   ]
  },
  {
   "cell_type": "code",
   "execution_count": 38,
   "metadata": {},
   "outputs": [
    {
     "data": {
      "image/png": "[encoded data removed]",
      "text/plain": [
       "<Figure size 432x288 with 2 Axes>"
      ]
     },
     "metadata": {
      "needs_background": "light"
     },
     "output_type": "display_data"
    }
   ],
   "source": [
    "plot_confusion_matrix(best_grid_gbc_3, X_test_2, y_test_2,  xticks_rotation = 'vertical', values_format = 'd')\n",
    "plt.show()"
   ]
  },
  {
   "cell_type": "markdown",
   "metadata": {},
   "source": [
    "### AdaBoost"
   ]
  },
  {
   "cell_type": "code",
   "execution_count": 39,
   "metadata": {},
   "outputs": [
    {
     "name": "stdout",
     "output_type": "stream",
     "text": [
      "Fitting 4 folds for each of 32 candidates, totalling 128 fits\n"
     ]
    },
    {
     "name": "stderr",
     "output_type": "stream",
     "text": [
      "[Parallel(n_jobs=-1)]: Using backend LokyBackend with 12 concurrent workers.\n",
      "[Parallel(n_jobs=-1)]: Done   8 tasks      | elapsed:    0.6s\n",
      "[Parallel(n_jobs=-1)]: Done 104 tasks      | elapsed:   11.5s\n"
     ]
    },
    {
     "name": "stdout",
     "output_type": "stream",
     "text": [
      "{'algorithm': 'SAMME', 'learning_rate': 0.25, 'n_estimators': 50}\n",
      "                     precision    recall  f1-score   support\n",
      "\n",
      "Infra-Normal_weight       0.85      0.83      0.84       112\n",
      "            Obesity       0.89      0.91      0.90       195\n",
      "         Overweight       0.80      0.78      0.79       116\n",
      "\n",
      "           accuracy                           0.86       423\n",
      "          macro avg       0.85      0.84      0.84       423\n",
      "       weighted avg       0.86      0.86      0.86       423\n",
      "\n"
     ]
    },
    {
     "name": "stderr",
     "output_type": "stream",
     "text": [
      "[Parallel(n_jobs=-1)]: Done 128 out of 128 | elapsed:   14.4s finished\n"
     ]
    }
   ],
   "source": [
    "param_grid = {'n_estimators': [50, 100, 250, 500],\n",
    "              'learning_rate': [0.25, 0.5, 0.75, 1],\n",
    "              'algorithm': ['SAMME', 'SAMME.R']}\n",
    "\n",
    "ada_3 = AdaBoostClassifier(base_estimator = best_grid_dt_3, random_state = 1)\n",
    "grid_search_ada_3 = GridSearchCV(estimator = ada_3, param_grid = param_grid, cv = 4, n_jobs = -1, verbose = 3)\n",
    "grid_search_ada_3.fit(X_train_2, y_train_2)\n",
    "print(grid_search_ada_3.best_params_)\n",
    "\n",
    "best_grid_ada_3 = grid_search_ada_3.best_estimator_\n",
    "y_pred_ada_3 = best_grid_ada_3.predict(X_test_2)\n",
    "\n",
    "print(classification_report(y_test_2, y_pred_ada_3))"
   ]
  },
  {
   "cell_type": "code",
   "execution_count": 40,
   "metadata": {},
   "outputs": [
    {
     "data": {
      "image/png": "[encoded data removed]",
      "text/plain": [
       "<Figure size 432x288 with 2 Axes>"
      ]
     },
     "metadata": {
      "needs_background": "light"
     },
     "output_type": "display_data"
    }
   ],
   "source": [
    "plot_confusion_matrix(best_grid_ada_3, X_test_2, y_test_2,  xticks_rotation = 'vertical', values_format = 'd')\n",
    "plt.show()"
   ]
  },
  {
   "cell_type": "markdown",
   "metadata": {},
   "source": [
    "### Voting classifier hard\n"
   ]
  },
  {
   "cell_type": "code",
   "execution_count": 41,
   "metadata": {},
   "outputs": [
    {
     "name": "stdout",
     "output_type": "stream",
     "text": [
      "                     precision    recall  f1-score   support\n",
      "\n",
      "Infra-Normal_weight       0.87      0.88      0.87       112\n",
      "            Obesity       0.88      0.93      0.91       195\n",
      "         Overweight       0.84      0.75      0.79       116\n",
      "\n",
      "           accuracy                           0.87       423\n",
      "          macro avg       0.86      0.85      0.86       423\n",
      "       weighted avg       0.87      0.87      0.87       423\n",
      "\n"
     ]
    }
   ],
   "source": [
    "clf1_3 = best_grid_ada_3\n",
    "clf2_3 = best_grid_gbc_3\n",
    "clf3_3 = best_grid_rf_3\n",
    "\n",
    "eclf_hard_3 = VotingClassifier(estimators = [('ada', clf1_3), ('gbc', clf2_3), ('rfc', clf3_3)], voting = 'hard')\n",
    "eclf_hard_3 = eclf_hard_3.fit(X_train_2, y_train_2)\n",
    "\n",
    "y_pred_eclf_hard_3 = eclf_hard_3.predict(X_test_2)\n",
    "\n",
    "print(classification_report(y_test_2, y_pred_eclf_hard_3))"
   ]
  },
  {
   "cell_type": "code",
   "execution_count": 42,
   "metadata": {},
   "outputs": [
    {
     "data": {
      "image/png": "[encoded data removed]",
      "text/plain": [
       "<Figure size 432x288 with 2 Axes>"
      ]
     },
     "metadata": {
      "needs_background": "light"
     },
     "output_type": "display_data"
    }
   ],
   "source": [
    "plot_confusion_matrix(eclf_hard_3, X_test_2, y_test_2,  xticks_rotation = 'vertical', values_format = 'd')\n",
    "plt.show()"
   ]
  },
  {
   "cell_type": "markdown",
   "metadata": {},
   "source": [
    "### Voting classifier soft\n"
   ]
  },
  {
   "cell_type": "code",
   "execution_count": 43,
   "metadata": {},
   "outputs": [
    {
     "name": "stdout",
     "output_type": "stream",
     "text": [
      "                     precision    recall  f1-score   support\n",
      "\n",
      "Infra-Normal_weight       0.88      0.86      0.87       112\n",
      "            Obesity       0.90      0.93      0.91       195\n",
      "         Overweight       0.83      0.80      0.82       116\n",
      "\n",
      "           accuracy                           0.87       423\n",
      "          macro avg       0.87      0.86      0.87       423\n",
      "       weighted avg       0.87      0.87      0.87       423\n",
      "\n"
     ]
    }
   ],
   "source": [
    "clf1_3 = best_grid_ada_3\n",
    "clf2_3 = best_grid_gbc_3\n",
    "clf3_3 = best_grid_rf_3\n",
    "\n",
    "eclf_soft_3 = VotingClassifier(estimators = [('ada', clf1_3), ('gbc', clf2_3), ('rfc', clf3_3)], voting = 'soft')\n",
    "eclf_soft_3 = eclf_soft_3.fit(X_train_2, y_train_2)\n",
    "\n",
    "y_pred_eclf_soft_3 = eclf_soft_3.predict(X_test_2)\n",
    "\n",
    "print(classification_report(y_test_2, y_pred_eclf_soft_3))"
   ]
  },
  {
   "cell_type": "code",
   "execution_count": 44,
   "metadata": {},
   "outputs": [
    {
     "data": {
      "image/png": "[encoded data removed]",
      "text/plain": [
       "<Figure size 432x288 with 2 Axes>"
      ]
     },
     "metadata": {
      "needs_background": "light"
     },
     "output_type": "display_data"
    }
   ],
   "source": [
    "plot_confusion_matrix(eclf_soft_3, X_test_2, y_test_2,  xticks_rotation = 'vertical', values_format = 'd')\n",
    "plt.show()"
   ]
  },
  {
   "cell_type": "markdown",
   "metadata": {},
   "source": [
    "## Models with less features\n",
    "\n",
    "Let's train the models with 3 categories in the target variable and without the three less important features."
   ]
  },
  {
   "cell_type": "code",
   "execution_count": 45,
   "metadata": {},
   "outputs": [],
   "source": [
    "X_train_less_2 = X_train_2.drop(['Transport_Automobile', 'Transport_Public_Transportation', 'Transport_Walking', 'Smoke', \n",
    "                                 'Calories_monitoring'], axis = 1)\n",
    "X_test_less_2 = X_test_2.drop(['Transport_Automobile', 'Transport_Public_Transportation', 'Transport_Walking', 'Smoke', \n",
    "                               'Calories_monitoring'], axis = 1)"
   ]
  },
  {
   "cell_type": "markdown",
   "metadata": {},
   "source": [
    "### Decision tree"
   ]
  },
  {
   "cell_type": "code",
   "execution_count": 46,
   "metadata": {},
   "outputs": [
    {
     "name": "stdout",
     "output_type": "stream",
     "text": [
      "Fitting 4 folds for each of 84 candidates, totalling 336 fits\n"
     ]
    },
    {
     "name": "stderr",
     "output_type": "stream",
     "text": [
      "[Parallel(n_jobs=-1)]: Using backend LokyBackend with 12 concurrent workers.\n",
      "[Parallel(n_jobs=-1)]: Done   8 tasks      | elapsed:    0.0s\n"
     ]
    },
    {
     "name": "stdout",
     "output_type": "stream",
     "text": [
      "{'criterion': 'gini', 'max_depth': 10, 'max_features': 'auto', 'splitter': 'best'}\n",
      "                     precision    recall  f1-score   support\n",
      "\n",
      "Infra-Normal_weight       0.81      0.69      0.74       112\n",
      "            Obesity       0.79      0.91      0.85       195\n",
      "         Overweight       0.64      0.58      0.61       116\n",
      "\n",
      "           accuracy                           0.76       423\n",
      "          macro avg       0.75      0.72      0.73       423\n",
      "       weighted avg       0.76      0.76      0.75       423\n",
      "\n"
     ]
    },
    {
     "name": "stderr",
     "output_type": "stream",
     "text": [
      "[Parallel(n_jobs=-1)]: Done 284 tasks      | elapsed:    0.3s\n",
      "[Parallel(n_jobs=-1)]: Done 336 out of 336 | elapsed:    0.3s finished\n"
     ]
    }
   ],
   "source": [
    "param_grid = {'criterion': ['gini', 'entropy'],\n",
    "              'max_depth': [2, 3, 4, 5, 6, 8, 10],\n",
    "              'max_features': ['auto', 'sqrt', 'log2'],\n",
    "              'splitter': ['best', 'random']}\n",
    "\n",
    "dt_4 = DecisionTreeClassifier(random_state = 1)\n",
    "grid_search_dt_4 = GridSearchCV(estimator = dt_4, param_grid = param_grid, cv = 4, n_jobs = -1, verbose = 3)\n",
    "grid_search_dt_4.fit(X_train_less_2, y_train_2)\n",
    "print(grid_search_dt_4.best_params_)\n",
    "\n",
    "best_grid_dt_4 = grid_search_dt_4.best_estimator_\n",
    "y_pred_dt_4 = best_grid_dt_4.predict(X_test_less_2)\n",
    "\n",
    "print(classification_report(y_test_2, y_pred_dt_4))"
   ]
  },
  {
   "cell_type": "code",
   "execution_count": 47,
   "metadata": {},
   "outputs": [
    {
     "data": {
      "image/png": "[encoded data removed]",
      "text/plain": [
       "<Figure size 432x288 with 2 Axes>"
      ]
     },
     "metadata": {
      "needs_background": "light"
     },
     "output_type": "display_data"
    }
   ],
   "source": [
    "plot_confusion_matrix(best_grid_dt_4, X_test_less_2, y_test_2,  xticks_rotation = 'vertical', values_format = 'd')\n",
    "plt.show()"
   ]
  },
  {
   "cell_type": "markdown",
   "metadata": {},
   "source": [
    "### Random forest"
   ]
  },
  {
   "cell_type": "code",
   "execution_count": 48,
   "metadata": {},
   "outputs": [
    {
     "name": "stdout",
     "output_type": "stream",
     "text": [
      "Fitting 4 folds for each of 126 candidates, totalling 504 fits\n"
     ]
    },
    {
     "name": "stderr",
     "output_type": "stream",
     "text": [
      "[Parallel(n_jobs=-1)]: Using backend LokyBackend with 12 concurrent workers.\n",
      "[Parallel(n_jobs=-1)]: Done   8 tasks      | elapsed:    0.5s\n",
      "[Parallel(n_jobs=-1)]: Done 104 tasks      | elapsed:    6.6s\n",
      "[Parallel(n_jobs=-1)]: Done 264 tasks      | elapsed:   19.0s\n"
     ]
    },
    {
     "name": "stdout",
     "output_type": "stream",
     "text": [
      "{'criterion': 'gini', 'max_depth': 10, 'max_features': 'auto', 'n_estimators': 100}\n",
      "                     precision    recall  f1-score   support\n",
      "\n",
      "Infra-Normal_weight       0.88      0.83      0.85       112\n",
      "            Obesity       0.86      0.95      0.90       195\n",
      "         Overweight       0.80      0.71      0.75       116\n",
      "\n",
      "           accuracy                           0.85       423\n",
      "          macro avg       0.85      0.83      0.84       423\n",
      "       weighted avg       0.85      0.85      0.85       423\n",
      "\n"
     ]
    },
    {
     "name": "stderr",
     "output_type": "stream",
     "text": [
      "[Parallel(n_jobs=-1)]: Done 504 out of 504 | elapsed:   38.3s finished\n"
     ]
    }
   ],
   "source": [
    "param_grid = {'criterion': ['gini', 'entropy'],\n",
    "              'max_depth': [2, 3, 4, 5, 6, 8, 10],\n",
    "              'max_features': ['auto', 'sqrt', 'log2'],\n",
    "              'n_estimators': [100, 250, 500]}\n",
    "\n",
    "rf_4 = RandomForestClassifier(random_state = 1)\n",
    "grid_search_rf_4 = GridSearchCV(estimator = rf_4, param_grid = param_grid, cv = 4, n_jobs = -1, verbose = 3)\n",
    "grid_search_rf_4.fit(X_train_less_2, y_train_2)\n",
    "print(grid_search_rf_4.best_params_)\n",
    "\n",
    "best_grid_rf_4 = grid_search_rf_4.best_estimator_\n",
    "y_pred_rf_4 = best_grid_rf_4.predict(X_test_less_2)\n",
    "\n",
    "print(classification_report(y_test_2, y_pred_rf_4))"
   ]
  },
  {
   "cell_type": "code",
   "execution_count": 49,
   "metadata": {},
   "outputs": [
    {
     "data": {
      "image/png": "[encoded data removed]",
      "text/plain": [
       "<Figure size 432x288 with 2 Axes>"
      ]
     },
     "metadata": {
      "needs_background": "light"
     },
     "output_type": "display_data"
    }
   ],
   "source": [
    "plot_confusion_matrix(best_grid_rf_4, X_test_less_2, y_test_2,  xticks_rotation = 'vertical', values_format = 'd')\n",
    "plt.show() "
   ]
  },
  {
   "cell_type": "markdown",
   "metadata": {},
   "source": [
    "### Gradient Boosting"
   ]
  },
  {
   "cell_type": "code",
   "execution_count": 50,
   "metadata": {},
   "outputs": [
    {
     "name": "stdout",
     "output_type": "stream",
     "text": [
      "Fitting 4 folds for each of 140 candidates, totalling 560 fits\n"
     ]
    },
    {
     "name": "stderr",
     "output_type": "stream",
     "text": [
      "[Parallel(n_jobs=-1)]: Using backend LokyBackend with 12 concurrent workers.\n",
      "[Parallel(n_jobs=-1)]: Done   8 tasks      | elapsed:    0.6s\n",
      "[Parallel(n_jobs=-1)]: Done 104 tasks      | elapsed:   14.6s\n",
      "[Parallel(n_jobs=-1)]: Done 264 tasks      | elapsed:   37.0s\n",
      "[Parallel(n_jobs=-1)]: Done 488 tasks      | elapsed:  1.2min\n",
      "[Parallel(n_jobs=-1)]: Done 560 out of 560 | elapsed:  1.4min finished\n"
     ]
    },
    {
     "name": "stdout",
     "output_type": "stream",
     "text": [
      "{'learning_rate': 0.2, 'max_depth': 7, 'n_estimators': 100}\n",
      "                     precision    recall  f1-score   support\n",
      "\n",
      "Infra-Normal_weight       0.86      0.85      0.86       112\n",
      "            Obesity       0.89      0.91      0.90       195\n",
      "         Overweight       0.80      0.78      0.79       116\n",
      "\n",
      "           accuracy                           0.86       423\n",
      "          macro avg       0.85      0.85      0.85       423\n",
      "       weighted avg       0.86      0.86      0.86       423\n",
      "\n"
     ]
    }
   ],
   "source": [
    "param_grid = {'n_estimators': [50, 100, 150, 200],\n",
    "              'learning_rate': [0.2, 0.4, 0.5, 0.7, 1],\n",
    "              'max_depth': [2, 3, 4, 5, 6, 7, 8]}\n",
    "\n",
    "gbc_4 = GradientBoostingClassifier(random_state = 1)\n",
    "grid_search_gbc_4 = GridSearchCV(estimator = gbc_4, param_grid = param_grid, cv = 4, n_jobs = -1, verbose = 3)\n",
    "grid_search_gbc_4.fit(X_train_less_2, y_train_2)\n",
    "print(grid_search_gbc_4.best_params_)\n",
    "\n",
    "best_grid_gbc_4 = grid_search_gbc_4.best_estimator_\n",
    "y_pred_gbc_4 = best_grid_gbc_4.predict(X_test_less_2)\n",
    "\n",
    "print(classification_report(y_test_2, y_pred_gbc_4))"
   ]
  },
  {
   "cell_type": "code",
   "execution_count": 51,
   "metadata": {},
   "outputs": [
    {
     "data": {
      "image/png": "[encoded data removed]",
      "text/plain": [
       "<Figure size 432x288 with 2 Axes>"
      ]
     },
     "metadata": {
      "needs_background": "light"
     },
     "output_type": "display_data"
    }
   ],
   "source": [
    "plot_confusion_matrix(best_grid_gbc_4, X_test_less_2, y_test_2,  xticks_rotation = 'vertical', values_format = 'd')\n",
    "plt.show()"
   ]
  },
  {
   "cell_type": "markdown",
   "metadata": {},
   "source": [
    "### AdaBoost"
   ]
  },
  {
   "cell_type": "code",
   "execution_count": 52,
   "metadata": {},
   "outputs": [
    {
     "name": "stdout",
     "output_type": "stream",
     "text": [
      "Fitting 4 folds for each of 32 candidates, totalling 128 fits\n"
     ]
    },
    {
     "name": "stderr",
     "output_type": "stream",
     "text": [
      "[Parallel(n_jobs=-1)]: Using backend LokyBackend with 12 concurrent workers.\n",
      "[Parallel(n_jobs=-1)]: Done   8 tasks      | elapsed:    0.5s\n",
      "[Parallel(n_jobs=-1)]: Done 104 tasks      | elapsed:   11.2s\n",
      "[Parallel(n_jobs=-1)]: Done 128 out of 128 | elapsed:   14.1s finished\n"
     ]
    },
    {
     "name": "stdout",
     "output_type": "stream",
     "text": [
      "{'algorithm': 'SAMME', 'learning_rate': 0.25, 'n_estimators': 100}\n",
      "                     precision    recall  f1-score   support\n",
      "\n",
      "Infra-Normal_weight       0.86      0.80      0.83       112\n",
      "            Obesity       0.91      0.93      0.92       195\n",
      "         Overweight       0.79      0.80      0.80       116\n",
      "\n",
      "           accuracy                           0.86       423\n",
      "          macro avg       0.85      0.85      0.85       423\n",
      "       weighted avg       0.86      0.86      0.86       423\n",
      "\n"
     ]
    }
   ],
   "source": [
    "param_grid = {'n_estimators': [50, 100, 250, 500],\n",
    "              'learning_rate': [0.25, 0.5, 0.75, 1],\n",
    "              'algorithm': ['SAMME', 'SAMME.R']}\n",
    "\n",
    "ada_4 = AdaBoostClassifier(base_estimator = best_grid_dt_4, random_state = 1)\n",
    "grid_search_ada_4 = GridSearchCV(estimator = ada_4, param_grid = param_grid, cv = 4, n_jobs = -1, verbose = 3)\n",
    "grid_search_ada_4.fit(X_train_less_2, y_train_2)\n",
    "print(grid_search_ada_4.best_params_)\n",
    "\n",
    "best_grid_ada_4 = grid_search_ada_4.best_estimator_\n",
    "y_pred_ada_4 = best_grid_ada_4.predict(X_test_less_2)\n",
    "\n",
    "print(classification_report(y_test_2, y_pred_ada_4))"
   ]
  },
  {
   "cell_type": "code",
   "execution_count": 53,
   "metadata": {},
   "outputs": [
    {
     "data": {
      "image/png": "[encoded data removed]",
      "text/plain": [
       "<Figure size 432x288 with 2 Axes>"
      ]
     },
     "metadata": {
      "needs_background": "light"
     },
     "output_type": "display_data"
    }
   ],
   "source": [
    "plot_confusion_matrix(best_grid_ada_4, X_test_less_2, y_test_2,  xticks_rotation = 'vertical', values_format = 'd')\n",
    "plt.show()"
   ]
  },
  {
   "cell_type": "markdown",
   "metadata": {},
   "source": [
    "### Voting classifier hard\n"
   ]
  },
  {
   "cell_type": "code",
   "execution_count": 54,
   "metadata": {},
   "outputs": [
    {
     "name": "stdout",
     "output_type": "stream",
     "text": [
      "                     precision    recall  f1-score   support\n",
      "\n",
      "Infra-Normal_weight       0.84      0.84      0.84       112\n",
      "            Obesity       0.90      0.93      0.91       195\n",
      "         Overweight       0.82      0.77      0.79       116\n",
      "\n",
      "           accuracy                           0.86       423\n",
      "          macro avg       0.85      0.85      0.85       423\n",
      "       weighted avg       0.86      0.86      0.86       423\n",
      "\n"
     ]
    }
   ],
   "source": [
    "clf1_4 = best_grid_ada_4\n",
    "clf2_4 = best_grid_gbc_4\n",
    "clf3_4 = best_grid_rf_4\n",
    "\n",
    "eclf_hard_4 = VotingClassifier(estimators = [('ada', clf1_4), ('gbc', clf2_4), ('rfc', clf3_4)], voting = 'hard')\n",
    "eclf_hard_4 = eclf_hard_4.fit(X_train_less_2, y_train_2)\n",
    "\n",
    "y_pred_eclf_hard_4 = eclf_hard_4.predict(X_test_less_2)\n",
    "\n",
    "print(classification_report(y_test_2, y_pred_eclf_hard_4))"
   ]
  },
  {
   "cell_type": "code",
   "execution_count": 55,
   "metadata": {},
   "outputs": [
    {
     "data": {
      "image/png": "[encoded data removed]",
      "text/plain": [
       "<Figure size 432x288 with 2 Axes>"
      ]
     },
     "metadata": {
      "needs_background": "light"
     },
     "output_type": "display_data"
    }
   ],
   "source": [
    "plot_confusion_matrix(eclf_hard_4, X_test_less_2, y_test_2,  xticks_rotation = 'vertical', values_format = 'd')\n",
    "plt.show()"
   ]
  },
  {
   "cell_type": "markdown",
   "metadata": {},
   "source": [
    "### Voting classifier soft"
   ]
  },
  {
   "cell_type": "code",
   "execution_count": 56,
   "metadata": {},
   "outputs": [
    {
     "name": "stdout",
     "output_type": "stream",
     "text": [
      "                     precision    recall  f1-score   support\n",
      "\n",
      "Infra-Normal_weight       0.89      0.85      0.87       112\n",
      "            Obesity       0.88      0.93      0.91       195\n",
      "         Overweight       0.83      0.78      0.80       116\n",
      "\n",
      "           accuracy                           0.87       423\n",
      "          macro avg       0.86      0.85      0.86       423\n",
      "       weighted avg       0.87      0.87      0.87       423\n",
      "\n"
     ]
    }
   ],
   "source": [
    "clf1_4 = best_grid_ada_4\n",
    "clf2_4 = best_grid_gbc_4\n",
    "clf3_4 = best_grid_rf_4\n",
    "\n",
    "eclf_soft_4 = VotingClassifier(estimators = [('ada', clf1_4), ('gbc', clf2_4), ('rfc', clf3_4)], voting = 'soft')\n",
    "eclf_soft_4 = eclf_soft_4.fit(X_train_less_2, y_train_2)\n",
    "\n",
    "y_pred_eclf_soft_4 = eclf_soft_4.predict(X_test_less_2)\n",
    "\n",
    "print(classification_report(y_test_2, y_pred_eclf_soft_4))"
   ]
  },
  {
   "cell_type": "code",
   "execution_count": 57,
   "metadata": {},
   "outputs": [
    {
     "data": {
      "image/png": "[encoded data removed]",
      "text/plain": [
       "<Figure size 432x288 with 2 Axes>"
      ]
     },
     "metadata": {
      "needs_background": "light"
     },
     "output_type": "display_data"
    }
   ],
   "source": [
    "plot_confusion_matrix(eclf_soft_4, X_test_less_2, y_test_2,  xticks_rotation = 'vertical', values_format = 'd')\n",
    "plt.show()"
   ]
  },
  {
   "cell_type": "markdown",
   "metadata": {},
   "source": [
    "## 3 categories resume"
   ]
  },
  {
   "cell_type": "code",
   "execution_count": 60,
   "metadata": {},
   "outputs": [
    {
     "data": {
      "text/html": [
       "<div>\n",
       "<style scoped>\n",
       "    .dataframe tbody tr th:only-of-type {\n",
       "        vertical-align: middle;\n",
       "    }\n",
       "\n",
       "    .dataframe tbody tr th {\n",
       "        vertical-align: top;\n",
       "    }\n",
       "\n",
       "    .dataframe thead th {\n",
       "        text-align: right;\n",
       "    }\n",
       "</style>\n",
       "<table border=\"1\" class=\"dataframe\">\n",
       "  <thead>\n",
       "    <tr style=\"text-align: right;\">\n",
       "      <th></th>\n",
       "      <th>Model</th>\n",
       "      <th>All features accuracy</th>\n",
       "      <th>Less features accuracy</th>\n",
       "    </tr>\n",
       "  </thead>\n",
       "  <tbody>\n",
       "    <tr>\n",
       "      <th>0</th>\n",
       "      <td>Decision tree</td>\n",
       "      <td>0.75</td>\n",
       "      <td>0.76</td>\n",
       "    </tr>\n",
       "    <tr>\n",
       "      <th>1</th>\n",
       "      <td>Random forest</td>\n",
       "      <td>0.83</td>\n",
       "      <td>0.85</td>\n",
       "    </tr>\n",
       "    <tr>\n",
       "      <th>2</th>\n",
       "      <td>Gradient boosting</td>\n",
       "      <td>0.86</td>\n",
       "      <td>0.86</td>\n",
       "    </tr>\n",
       "    <tr>\n",
       "      <th>3</th>\n",
       "      <td>AdaBoost</td>\n",
       "      <td>0.86</td>\n",
       "      <td>0.86</td>\n",
       "    </tr>\n",
       "    <tr>\n",
       "      <th>4</th>\n",
       "      <td>Voting classifier hard</td>\n",
       "      <td>0.87</td>\n",
       "      <td>0.86</td>\n",
       "    </tr>\n",
       "    <tr>\n",
       "      <th>5</th>\n",
       "      <td>Voting classifier soft</td>\n",
       "      <td>0.87</td>\n",
       "      <td>0.87</td>\n",
       "    </tr>\n",
       "  </tbody>\n",
       "</table>\n",
       "</div>"
      ],
      "text/plain": [
       "                    Model  All features accuracy  Less features accuracy\n",
       "0           Decision tree                   0.75                    0.76\n",
       "1           Random forest                   0.83                    0.85\n",
       "2       Gradient boosting                   0.86                    0.86\n",
       "3                AdaBoost                   0.86                    0.86\n",
       "4  Voting classifier hard                   0.87                    0.86\n",
       "5  Voting classifier soft                   0.87                    0.87"
      ]
     },
     "execution_count": 60,
     "metadata": {},
     "output_type": "execute_result"
    }
   ],
   "source": [
    "three_cat_res = pd.DataFrame({'Model': ['Decision tree', 'Random forest', 'Gradient boosting', 'AdaBoost',\n",
    "                                      'Voting classifier hard', 'Voting classifier soft'],\n",
    "                             'All features accuracy': [0.75, 0.83, 0.86, 0.86, 0.87, 0.87],\n",
    "                             'Less features accuracy': [0.76, 0.85, 0.86, 0.86, 0.86, 0.87]})\n",
    "three_cat_res"
   ]
  }
 ],
 "metadata": {
  "kernelspec": {
   "display_name": "Python 3",
   "language": "python",
   "name": "python3"
  },
  "language_info": {
   "codemirror_mode": {
    "name": "ipython",
    "version": 3
   },
   "file_extension": ".py",
   "mimetype": "text/x-python",
   "name": "python",
   "nbconvert_exporter": "python",
   "pygments_lexer": "ipython3",
   "version": "3.8.3"
  }
 },
 "nbformat": 4,
 "nbformat_minor": 4
}
